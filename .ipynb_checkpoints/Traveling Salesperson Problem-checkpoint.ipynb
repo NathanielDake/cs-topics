{
 "cells": [
  {
   "cell_type": "markdown",
   "metadata": {},
   "source": [
    "# The Traveling Salesperson Problem"
   ]
  },
  {
   "cell_type": "markdown",
   "metadata": {},
   "source": [
    "Consider the [*Traveling Salesperson Problem*](http://en.wikipedia.org/wiki/Traveling_salesman_problem): \n",
    "\n",
    "> *Given a set of cities and the distances between each pair of cities, what is the shortest possible tour that visits each city exactly once, and returns to the starting city?*\n",
    "\n",
    "In this notebook we will develop some solutions to the problem, and more generally show *how to think about* solving a problem like this. [Elsewhere](https://research.googleblog.com/2016/09/the-280-year-old-algorithm-inside.html) you can read about how the algorithms developed here are used in serious applications that millions of people rely on every day.\n",
    "\n",
    "<a href=\"http://www.math.uwaterloo.ca/tsp/history/pictorial/dfj.html\"><img src=\"http://www.math.uwaterloo.ca/tsp/history/img/dantzig.gif\"></a>\n",
    "<center>An example tour.</center>\n",
    "                                     \n",
    "# Understanding What We're Talking About (Vocabulary)\n",
    "\n",
    "In any problem, the most important thing that we must do is understand the specifics of the problem. Do we understand precisely what the problem is asking? Do we understand all the concepts that the problem talks about?  Do we understand them well enough to implement them in a programming language? Let's take a first pass:\n",
    "\n",
    "- **A set of cities**: We will need to represent a set of cities; Python's `set` datatype might be appropriate.\n",
    "- **Distance between each pair of cities**: If `A` and `B` are cities, this could be a function, `distance(A, B),` or a table lookup, `distance[A][B]`.  The resulting distance will be a real number.\n",
    "- **City**: All we have to know about an individual city is how far it is from other cities. We don't have to know its name, population, best restaurants, or anything else. So a city could be just an integer (0, 1, 2, ...) used as an index into a distance table, or a city could be a pair of (x, y) coordinates, if we are using straight-line distance on a plane.\n",
    "- **Tour**: A tour is a specified order in which to visit the cities; Python's `list` or `tuple` datatypes would work. For example, given the set of cities `{A, B, C, D}`, a tour might be the list `[B, D, A, C]`, which means to travel from `B` to `D` to `A` to `C` and finally back to `B`.\n",
    "- **Shortest possible tour**: The shortest tour is the one whose tour length is the minimum of all tours.\n",
    "- **Tour length**: The sum of the distances between adjacent cities in the tour (including the last city back to the first city).   Probably  a function, `tour_length(tour)`.\n",
    "- **What is ...**: We can define a function to answer the question *what is the shortest possible tour?*  The function takes a set of cities as input and returns a tour as output. I will use the convention that any such function will have a name ending in the letters \"`tsp`\", the traditional abbreviation for Traveling Salesperson Problem.\n",
    "\n",
    "At this stage I have a rough sketch of how to attack the problem.  I don't have all the answers, and I haven't committed to specific representations for all the concepts, but I know what all the pieces are, and I don't see anything that stops me from proceeding."
   ]
  },
  {
   "cell_type": "markdown",
   "metadata": {},
   "source": [
    "Here are the imports used throughout this notebook. I'm assuming Python 3."
   ]
  },
  {
   "cell_type": "code",
   "execution_count": 74,
   "metadata": {},
   "outputs": [],
   "source": [
    "%matplotlib inline\n",
    "import matplotlib.pyplot as plt\n",
    "import random\n",
    "import time\n",
    "import itertools\n",
    "import urllib\n",
    "import csv\n",
    "import functools\n",
    "from statistics import mean, stdev"
   ]
  },
  {
   "cell_type": "markdown",
   "metadata": {},
   "source": [
    "# All Tours Algorithm: `alltours_tsp`"
   ]
  },
  {
   "cell_type": "markdown",
   "metadata": {},
   "source": [
    "Let's start with an algorithm that is guaranteed to solve the problem, although it is inefficient for large sets of cities:\n",
    "\n",
    "> **All Tours Algorithm**: *Generate all possible tours of the cities, and choose the shortest tour (the one with minimum tour length).*\n",
    "\n",
    "My design philosophy is to first write an English description of the algorithm, then write Python code that closely mirrors the English description. This will probably require some auxilliary functions and data structures; just assume they exist; put them on a TO DO list, and eventually define them with the same design philosophy.\n",
    "\n",
    "Here is the start of the implementation:"
   ]
  },
  {
   "cell_type": "code",
   "execution_count": 75,
   "metadata": {},
   "outputs": [],
   "source": [
    "def alltours_tsp(cities):\n",
    "    \"Generate all possible tours of the cities and choose the shortest tour.\"\n",
    "    return shortest_tour(alltours(cities))\n",
    "\n",
    "def shortest_tour(tours): \n",
    "    \"Choose the tour with the minimum tour length.\"\n",
    "    return min(tours, key=tour_length)\n",
    "\n",
    "# TO DO: Data types: cities, tours, Functions: alltours, tour_length"
   ]
  },
  {
   "cell_type": "markdown",
   "metadata": {},
   "source": [
    "**Note**: In Python `min(`*collection*`,key=`*function*`)` means to find the element *x* that is a member of *collection* such that *function(x)* is minimized. So `shortest` finds the tour whose `tour_length` in the minimal among the tours. \n",
    "\n",
    "This gives us a good start; the Python code closely matches the English description.  And we know what we need to do next: represent cities and tours, and implement the functions `alltours` and `tour_length`. Let's start with tours.\n",
    "\n",
    "\n",
    "Representing Tours\n",
    "------------------\n",
    "\n",
    "A tour starts in one city, and then visits each of the other cities in order, before returning to the start city.  A natural representation of a tour is a sequence of cities. For example `(1, 2, 3)` could represent a tour that starts in city 1, moves to 2, then 3, and finally returns to 1.  \n",
    "\n",
    "**Note**: I considered using `(1, 2, 3, 1)` as the representation of this tour. I also considered an ordered list of **edges** between cities: \n",
    "`((1, 2), (2, 3), (3, 1))`. In the end, I decided `(1, 2, 3)` was simplest.\n",
    "    \n",
    "\n",
    "Now for the `alltours` function.  If a tour is a sequence of cities, then all the tours are *permutations* of the set of all cities. A function to generate all permutations of a set is already provided in Python's standard `itertools` library module; we can use it as our implementation of `alltours`:"
   ]
  },
  {
   "cell_type": "code",
   "execution_count": 76,
   "metadata": {},
   "outputs": [],
   "source": [
    "# alltours will return a list of all possible tours based\n",
    "alltours = itertools.permutations "
   ]
  },
  {
   "cell_type": "markdown",
   "metadata": {},
   "source": [
    "For *n* cities there are *n*! (that is, the factorial of *n*) permutations.\n",
    "Here's are all 3! = 6 tours of 3 cities:"
   ]
  },
  {
   "cell_type": "code",
   "execution_count": 77,
   "metadata": {},
   "outputs": [
    {
     "data": {
      "text/plain": [
       "[(1, 2, 3), (1, 3, 2), (2, 1, 3), (2, 3, 1), (3, 1, 2), (3, 2, 1)]"
      ]
     },
     "execution_count": 77,
     "metadata": {},
     "output_type": "execute_result"
    }
   ],
   "source": [
    "cities = {1, 2, 3}\n",
    "\n",
    "list(alltours(cities))"
   ]
  },
  {
   "cell_type": "markdown",
   "metadata": {},
   "source": [
    "The length of a tour is the sum of the lengths of each edge in the tour; in other words, the sum of the distances between consecutive cities in the tour, including the distance form the last city back to the first:"
   ]
  },
  {
   "cell_type": "code",
   "execution_count": 78,
   "metadata": {},
   "outputs": [],
   "source": [
    "def tour_length(tour):\n",
    "    \"The total of distances between each pair of consecutive cities in the tour.\"\n",
    "    return sum(distance(tour[i], tour[i-1]) \n",
    "               for i in range(len(tour)))\n",
    "\n",
    "# TO DO: Functions: distance, Data types: cities"
   ]
  },
  {
   "cell_type": "markdown",
   "metadata": {},
   "source": [
    "**Note**: I use one Python-specific trick: when `i` is 0, then `distance(tour[0], tour[-1])` gives us the wrap-around distance between the first and last cities, because `tour[-1]` is the last element of `tour`. \n",
    "\n",
    "Representing Cities\n",
    "--------------------------------\n",
    "\n",
    "We determined that the only thing that matters about cities is the distance between them. But before we can decide about how to represent cities, and before we can define `distance(A, B)`,  we have to make a choice. In the fully general version of the TSP, the \"distance\" between two cities could be anything: it could factor in the amount of time it takes to travel between cities, the twistiness of the road, or anything else. The `distance(A, B)` might be different from `distance(B, A)`. So the distances could be represented by a matrix `distance[A][B]`, where any entry in the matrix could be any (non-negative) numeric value.\n",
    "    \n",
    "But we will ignore the fully general TSP and concentrate on an important special case, the **Euclidean TSP**, where the distance between any two cities is the [Euclidean distance](http://en.wikipedia.org/wiki/Euclidean_distance), the straight-line distance between points in a two-dimensional plane. So a city can be represented by a two-dimensional point: a pair of *x* and *y* coordinates. We will use the constructor function `City`, so that `City(300, 0)` creates a city with x-coordinate of 300 and y coordinate of 0.  Then `distance(A, B)` will be a function that uses the *x* and *y* coordinates to compute the distance between `A` and `B`.\n",
    "\n",
    "Representing Points and Computing `distance`\n",
    "---\n",
    "        \n",
    "OK, so a city can be represented as just a two-dimensional point. But how will we represent points?  Here are some choices, with their pros and cons:\n",
    "\n",
    "* **tuple:** A point is a two-tuple of (*x*, *y*) coordinates, for example, `(300, 0)`. **Pro:** Very simple. \n",
    "**Con:** doesn't distinguish Points from other two-tuples.  \n",
    "            \n",
    "* **class:** Define a custom `Point` class with *x* and *y* slots. **Pro:** explicit, gives us `p.x` and `p.y` accessors.  **Con:** less efficient.\n",
    "            \n",
    "* **complex:** Python already has the two-dimensional point as a built-in numeric data type, but in a non-obvious way: as `complex` numbers, which inhabit the two-dimensional (real &times; imaginary) plane.  **Pro:** efficient. **Con:** a little confusing; doesn't distinguish Points from other complex numbers.\n",
    "* **subclass of complex:** All the pros of `complex`, and eliminating the major con.\n",
    "\n",
    "\n",
    "Any of these choices would work perfectly well; I decided to use a subclass of `complex`:"
   ]
  },
  {
   "cell_type": "code",
   "execution_count": 79,
   "metadata": {},
   "outputs": [],
   "source": [
    "# Cities are represented as Points, which are a subclass of complex numbers\n",
    "\n",
    "class Point(complex):\n",
    "    x = property(lambda p: p.real)\n",
    "    y = property(lambda p: p.imag)\n",
    "    \n",
    "City = Point\n",
    "\n",
    "def distance(A, B): \n",
    "    \"The distance between two points.\"\n",
    "    return abs(A - B)"
   ]
  },
  {
   "cell_type": "markdown",
   "metadata": {},
   "source": [
    "Here's an example of computing the distance between two cities:"
   ]
  },
  {
   "cell_type": "code",
   "execution_count": 80,
   "metadata": {},
   "outputs": [
    {
     "name": "stdout",
     "output_type": "stream",
     "text": [
      "(3+0j)\n"
     ]
    },
    {
     "data": {
      "text/plain": [
       "5.0"
      ]
     },
     "execution_count": 80,
     "metadata": {},
     "output_type": "execute_result"
    }
   ],
   "source": [
    "A = City(3, 0)\n",
    "print(A)\n",
    "B = City(0, 4)\n",
    "distance(A, B)"
   ]
  },
  {
   "cell_type": "markdown",
   "metadata": {},
   "source": [
    "Random Sets of Cities\n",
    "---\n",
    "\n",
    "The input to a TSP algorithm should be a set of cities. I can make a random set of *n* cities by calling `City` *n* times, each with different random *x* and *y* coordinates:"
   ]
  },
  {
   "cell_type": "code",
   "execution_count": 81,
   "metadata": {},
   "outputs": [
    {
     "data": {
      "text/plain": [
       "{(409+48j), (157+730j), (799+677j), (445+38j), (52+404j), (317+532j)}"
      ]
     },
     "execution_count": 81,
     "metadata": {},
     "output_type": "execute_result"
    }
   ],
   "source": [
    "{City(random.randrange(1000), random.randrange(1000)) for c in range(6)}"
   ]
  },
  {
   "cell_type": "markdown",
   "metadata": {},
   "source": [
    "The function `Cities` does that (and a bit more):"
   ]
  },
  {
   "cell_type": "code",
   "execution_count": 82,
   "metadata": {},
   "outputs": [],
   "source": [
    "def Cities(n, width=900, height=600, seed=42):\n",
    "    \"Make a set of n cities, each with random coordinates within a (width x height) rectangle.\"\n",
    "    random.seed(seed * n)\n",
    "    return frozenset(City(random.randrange(width), random.randrange(height))\n",
    "                     for c in range(n))"
   ]
  },
  {
   "cell_type": "markdown",
   "metadata": {},
   "source": [
    "There are three complications that I decided to tackle in `Cities`:\n",
    "\n",
    "1. IPython's matplotlib plots (by default) in a rectangle that is 1.5 times wider than it is high; that's why I specified a width of 900 and a height of 600. If you want the coordinates of your cities to be bounded by a different size rectangle, you can change width or height.\n",
    "\n",
    "2. Sometimes I want `Cities(n)` to be a true function, returning the same result each time. This is very helpful for getting repeatable results: if I run a test twice, I get the same results twice. \n",
    "But other times I would like to be able to do an experiment, where, for example, I call `Cities(n)` 30 times and get 30 different sets, and I then compute the average tour length produced by my algorithm across these 30 sets. Can I get both behaviors out of one function? *Yes!*  The trick is the additional optional parameter, `seed`.  Two calls to `Cities` with the same `n` and `seed` parameters will always return the same set of cities, and two calls with different values for `seed` will return different sets. This is implemented by calling the function `random.seed`, which resets the random number generator.\n",
    "\n",
    "3. Once I create a set of Cities, I don't want anyone messing with my set. For example, I don't want an algorithm that claims to \"solve\" a problem by deleting half the cities from the input set, then finding a tour of the remaining cities.  Therefore, I make `Cities` return a `frozenset` rather than a `set`.  A `frozenset` is *immutable*; nobody can change it once it is created. (Likewise, each city is immutable.)\n",
    "\n",
    "For example:"
   ]
  },
  {
   "cell_type": "code",
   "execution_count": 83,
   "metadata": {},
   "outputs": [
    {
     "data": {
      "text/plain": [
       "frozenset({(234+40j), (172+20j), (696+415j), (671+296j), (393+7j)})"
      ]
     },
     "execution_count": 83,
     "metadata": {},
     "output_type": "execute_result"
    }
   ],
   "source": [
    "# A set of 5 cities\n",
    "Cities(5)"
   ]
  },
  {
   "cell_type": "code",
   "execution_count": 84,
   "metadata": {},
   "outputs": [
    {
     "data": {
      "text/plain": [
       "[frozenset({(234+40j), (172+20j), (696+415j), (671+296j), (393+7j)}),\n",
       " frozenset({(234+40j), (172+20j), (696+415j), (671+296j), (393+7j)}),\n",
       " frozenset({(234+40j), (172+20j), (696+415j), (671+296j), (393+7j)})]"
      ]
     },
     "execution_count": 84,
     "metadata": {},
     "output_type": "execute_result"
    }
   ],
   "source": [
    "# The exact same set of 5 cities each time\n",
    "[Cities(5) for i in range(3)]"
   ]
  },
  {
   "cell_type": "code",
   "execution_count": 85,
   "metadata": {},
   "outputs": [
    {
     "data": {
      "text/plain": [
       "[frozenset({(414+310j), (41+265j), (523+497j), (776+430j), (864+394j)}),\n",
       " frozenset({(759+367j), (814+542j), (637+261j), (29+476j), (794+255j)}),\n",
       " frozenset({(439+494j), (832+503j), (585+33j), (591+15j), (211+473j)})]"
      ]
     },
     "execution_count": 85,
     "metadata": {},
     "output_type": "execute_result"
    }
   ],
   "source": [
    "# A different set of 5 cities each time\n",
    "[Cities(5, seed=i) for i in range(3)]"
   ]
  },
  {
   "cell_type": "markdown",
   "metadata": {},
   "source": [
    "Now we are ready to apply the `alltours_tsp` function to find the shortest tour:"
   ]
  },
  {
   "cell_type": "code",
   "execution_count": 86,
   "metadata": {},
   "outputs": [
    {
     "data": {
      "text/plain": [
       "((6+546j),\n",
       " (199+147j),\n",
       " (350+65j),\n",
       " (737+26j),\n",
       " (847+187j),\n",
       " (891+465j),\n",
       " (554+374j),\n",
       " (505+548j))"
      ]
     },
     "execution_count": 86,
     "metadata": {},
     "output_type": "execute_result"
    }
   ],
   "source": [
    "alltours_tsp(Cities(8))"
   ]
  },
  {
   "cell_type": "code",
   "execution_count": 87,
   "metadata": {},
   "outputs": [
    {
     "data": {
      "text/plain": [
       "2509.307587720301"
      ]
     },
     "execution_count": 87,
     "metadata": {},
     "output_type": "execute_result"
    }
   ],
   "source": [
    "tour_length(alltours_tsp(Cities(8)))"
   ]
  },
  {
   "cell_type": "markdown",
   "metadata": {},
   "source": [
    "Quick, is that the right answer?  I have no idea, and you probably can't tell either. But if we could *plot* the tour we'd understand it better and might be able to see at a glance if the tour is optimal.\n",
    "\n",
    "Plotting Tours\n",
    "---\n",
    "\n",
    "I define `plot_tour(tour)` to plot the cities (as circles) and the tour (as lines):"
   ]
  },
  {
   "cell_type": "code",
   "execution_count": 88,
   "metadata": {},
   "outputs": [],
   "source": [
    "def plot_tour(tour): \n",
    "    \"Plot the cities as circles and the tour as lines between them.\"\n",
    "    plot_lines(list(tour) + [tour[0]])\n",
    "    \n",
    "def plot_lines(points, style='bo-'):\n",
    "    \"Plot lines to connect a series of points.\"\n",
    "    plt.plot([p.x for p in points], [p.y for p in points], style)\n",
    "    plt.axis('scaled'); plt.axis('off')"
   ]
  },
  {
   "cell_type": "code",
   "execution_count": 89,
   "metadata": {},
   "outputs": [
    {
     "data": {
      "image/png": "[encoded data removed]",
      "text/plain": [
       "<matplotlib.figure.Figure at 0x10d954dd8>"
      ]
     },
     "metadata": {},
     "output_type": "display_data"
    }
   ],
   "source": [
    "plot_tour(alltours_tsp(Cities(8)))"
   ]
  },
  {
   "cell_type": "markdown",
   "metadata": {},
   "source": [
    "That looks much better!  To me, it looks like the shortest possible tour, although I don't have an easy way to prove it. Let's go one step further and define a function, `plot_tsp(algorithm, cities)` that will take a TSP algorithm (such as `alltours_tsp`) and a set of cities,  apply the algorithm to the cities to get a tour, check that the tour is reasonable, plot the tour,  and print information about the length of the tour and the time it took to find it:"
   ]
  },
  {
   "cell_type": "code",
   "execution_count": null,
   "metadata": {},
   "outputs": [],
   "source": [
    "def plot_tsp(algorithm, cities):\n",
    "    \"Apply a TSP algorithm to cities, plot the resulting tour, and print information.\"\n",
    "    # Find the solution and time how long it takes\n",
    "    t0 = time.clock()\n",
    "    tour = algorithm(cities)\n",
    "    t1 = time.clock()\n",
    "    assert valid_tour(tour, cities)\n",
    "    plot_tour(tour); plt.show()\n",
    "    print(\"{} city tour with length {:.1f} in {:.3f} secs for {}\"\n",
    "          .format(len(tour), tour_length(tour), t1 - t0, algorithm.__name__))\n",
    "    \n",
    "def valid_tour(tour, cities):\n",
    "    \"Is tour a valid tour for these cities?\"\n",
    "    return set(tour) == set(cities) and len(tour) == len(cities)"
   ]
  },
  {
   "cell_type": "code",
   "execution_count": null,
   "metadata": {},
   "outputs": [],
   "source": [
    "plot_tsp(alltours_tsp, Cities(8))"
   ]
  },
  {
   "cell_type": "markdown",
   "metadata": {},
   "source": [
    "## All Non-Redundant Tours Algorithm (improved `alltours_tsp`)"
   ]
  },
  {
   "cell_type": "markdown",
   "metadata": {},
   "source": [
    "We said there are *n*! tours of *n* cities, and thus 6 tours of 3 cities:"
   ]
  },
  {
   "cell_type": "code",
   "execution_count": null,
   "metadata": {},
   "outputs": [],
   "source": [
    "list(alltours({1, 2, 3}))"
   ]
  },
  {
   "cell_type": "markdown",
   "metadata": {},
   "source": [
    "But this is redundant: `(1, 2, 3)`, `(2, 3, 1)`, and `(3, 1, 2)` are three ways of describing the same tour. So let's arbitrarily say that all tours must start with the first city in the set of cities. We'll just pull the first city out, and then tack it back on to all the permutations of the rest of the cities.  \n",
    "\n",
    "While we're re-assembling a tour from the start city and the rest, we'll take the opportunity to construct the tour as a *list* rather than a *tuple*. It doesn't matter much now, but later on we will want to represent *partial* tours, to which we will want to append cities one by one; appending can only be done to lists, not tuples."
   ]
  },
  {
   "cell_type": "code",
   "execution_count": null,
   "metadata": {},
   "outputs": [],
   "source": [
    "def alltours(cities):\n",
    "    \"Return a list of tours, each a permutation of cities, but each one starting with the same city.\"\n",
    "    start = first(cities)\n",
    "    return [[start] + Tour(rest)\n",
    "            for rest in itertools.permutations(cities - {start})]\n",
    "\n",
    "def first(collection):\n",
    "    \"Start iterating over collection, and return the first element.\"\n",
    "    return next(iter(collection))\n",
    "\n",
    "Tour = list  # Tours are implemented as lists of cities"
   ]
  },
  {
   "cell_type": "markdown",
   "metadata": {},
   "source": [
    "We can verify that for 3 cities there are now only 2 tours (not 6) and for 4 cities there are 6 tours (not 24):"
   ]
  },
  {
   "cell_type": "code",
   "execution_count": null,
   "metadata": {},
   "outputs": [],
   "source": [
    "alltours({1, 2, 3})"
   ]
  },
  {
   "cell_type": "code",
   "execution_count": null,
   "metadata": {},
   "outputs": [],
   "source": [
    "alltours({1, 2, 3, 4})"
   ]
  },
  {
   "cell_type": "markdown",
   "metadata": {},
   "source": [
    "**Note:** We could say that there is only one tour of three cities, because `[1, 2, 3]` and `[1, 3, 2]` are in some sense the same tour, one going clockwise and the other counterclockwise.  However, I choose not to do that, for two reasons.  First, it would mean we can never handle TSP problems where the distance from A to B is different from B to A. Second, it would complicate the code (if only by a line or two).\n",
    "\n",
    "We can  verify that calling `alltours_tsp(Cities(8))` still works and gives the same tour with the same total distance. But it now runs faster:"
   ]
  },
  {
   "cell_type": "code",
   "execution_count": null,
   "metadata": {},
   "outputs": [],
   "source": [
    "plot_tsp(alltours_tsp, Cities(8))"
   ]
  },
  {
   "cell_type": "markdown",
   "metadata": {},
   "source": [
    "Now let's try a much harder 10-city tour:"
   ]
  },
  {
   "cell_type": "code",
   "execution_count": null,
   "metadata": {},
   "outputs": [],
   "source": [
    "plot_tsp(alltours_tsp, Cities(10))"
   ]
  },
  {
   "cell_type": "markdown",
   "metadata": {},
   "source": [
    "Complexity of `alltours_tsp`\n",
    "---\n",
    "\n",
    "It takes about 2 seconds on my machine to solve this 10-city problem. In general, the function `TSP` looks at (*n*-1)! tours for an *n*-city problem, and each tour has *n* cities, so the total time required for *n* cities should be roughly proportional to *n*!. This means that the time grows rapidly with the number of cities.  *Really* rapidly. This table shows the actual time for solving a 10 city problem, and the exepcted time for solving larger problems:\n",
    "\n",
    "<table>\n",
    "<tr><th>n <th>expected time for `alltours_tsp(Cities(n))`\n",
    "<tr><td>10<td>Covering 10! tours = 2 secs\n",
    "<tr><td>11<td>2 secs &times; 11! / 10! &approx; 22 secs\n",
    "<tr><td>12<td>2 secs &times; 12! / 10! &approx; 4 mins\n",
    "<tr><td>14<td>2 secs &times; 14! / 10! &approx; 13 hours\n",
    "<tr><td>16<td>2 secs &times; 16! / 10! &approx; 200 days\n",
    "<tr><td>18<td>2 secs &times; 18! / 10! &approx; 112 years\n",
    "<tr><td>25<td>2 secs &times; 25! / 10! &approx; <a href=\"https://www.google.com/search?q=2+seconds*25!+%2F+10!+in+years\">270 billion years</a>\n",
    "</table>\n",
    "\n",
    "There must be a better way ..."
   ]
  },
  {
   "cell_type": "markdown",
   "metadata": {},
   "source": [
    "# Approximate Algorithms"
   ]
  },
  {
   "cell_type": "markdown",
   "metadata": {},
   "source": [
    "What if we are willing to settle for a tour that is short, but not guaranteed to be shortest? Then we can save billions of years of compute time: we will show several *approximate* algorithms, which find tours that are typically within 10% of the shortest possible tour, and can handle thousands of cities in a few seconds. (**Note:** There are more sophisticated approximate algorithms that can handle hundreds of thousands of cities and come within 0.01% or better of the shortest possible tour.)\n",
    "\n",
    "So how do we come up with an approximate algorithm?   Here are two general plans of how to create a tour:\n",
    "\n",
    "* **Nearest Neighbor Algorithm**: Make the tour go from a city to its nearest neighbor. Repeat.\n",
    "* **Greedy Algorithm**: Find the shortest distance between any two cities and include that edge in the tour. Repeat.\n",
    "\n",
    "We will expand these ideas into full algorithms.\n",
    "\n",
    "In addition, here are four very general strategies that apply not just to TSP, but to any optimization problem. An **optimization problem** is one in which the goal is to find a solution that is best (or near-best) according to some metric,\n",
    "out of a pool of many candidate solutions. The strategies are:\n",
    "\n",
    "* **Repetition Strategy**: Take some algorithm and re-run it multiple times, varying some aspect each time, and take the solution with the best score.\n",
    "* **Alteration Strategy**: Use some algorithm to create a solution, then make small changes to the solution to improve it.\n",
    "* **Ensemble Strategy**: Take two or more algorithms, apply all of them to the problem, and pick the best solution.\n",
    "\n",
    "And here are two more strategies that work for a wide variety of problems:\n",
    "\n",
    "* **Divide and Conquer**: Split the input in half, solve the problem for each half, and then combine the two partial solutions.\n",
    "\n",
    "* **Stand on the Shoulders of Giants** *or* **Just Google It**: Find out what others have done in the past, and either copy it or build on it."
   ]
  },
  {
   "cell_type": "markdown",
   "metadata": {},
   "source": [
    "# Nearest Neighbor Algorithm: `nn_tsp`"
   ]
  },
  {
   "cell_type": "markdown",
   "metadata": {},
   "source": [
    "Here is a description of the nearest neighbor algorithm:\n",
    "\n",
    "> **Nearest Neighbor Algorithm:** *Start at any city; at each step extend the tour by moving from the previous city to its nearest neighbor that has not yet been visited.*\n",
    "\n",
    "So now, instead of considering all *n*! tours, we are generating a single tour. It takes O(*n*<sup>2</sup> ) time to find the tour, because it has *n*-1 steps, and at each step we consider each of the remaining cities.\n",
    "I implement the algorithm as follows:\n",
    "\n",
    "* \"*Start at any city*\": arbitrarily pick the first city. \n",
    "* \"*extend the tour*\": append to the end of a list of cities.\n",
    "* \"*by moving from the previous city*\": previous city is `tour[-1]`.\n",
    "* \"*to its nearest neighbor*\": I will define the function `nearest_neighbor`.\n",
    "* \"*that has not yet been visited*\": I will keep a set of `unvisited` cities.\n",
    "\n",
    "That gives us:"
   ]
  },
  {
   "cell_type": "code",
   "execution_count": null,
   "metadata": {},
   "outputs": [],
   "source": [
    "def nn_tsp(cities):\n",
    "    \"\"\"Start the tour at the first city; at each step extend the tour \n",
    "    by moving from the previous city to the nearest neighboring city, C,\n",
    "    that has not yet been visited.\"\"\"\n",
    "    start = first(cities)\n",
    "    tour = [start]\n",
    "    unvisited = set(cities - {start})\n",
    "    while unvisited:\n",
    "        C = nearest_neighbor(tour[-1], unvisited)\n",
    "        tour.append(C)\n",
    "        unvisited.remove(C)\n",
    "    return tour\n",
    "\n",
    "def nearest_neighbor(A, cities):\n",
    "    \"Find the city in cities that is nearest to city A.\"\n",
    "    return min(cities, key=lambda c: distance(c, A))"
   ]
  },
  {
   "cell_type": "markdown",
   "metadata": {},
   "source": [
    "**Note:** In Python, as in the formal mathematical theory of computability, `lambda` (or &lambda;) is the symbol for *function*, so \"`lambda c: distance(c, A)`\" means the function of `c` that computes the distance from `c` to the city `A`. \n",
    "\n",
    "We can compare the the slow (but optimal) `alltours_tsp` algorithm to the new fast (but approximate) `nn_tsp` algorithm:"
   ]
  },
  {
   "cell_type": "code",
   "execution_count": null,
   "metadata": {},
   "outputs": [],
   "source": [
    "plot_tsp(alltours_tsp, Cities(10))"
   ]
  },
  {
   "cell_type": "code",
   "execution_count": null,
   "metadata": {},
   "outputs": [],
   "source": [
    "plot_tsp(nn_tsp, Cities(10))"
   ]
  },
  {
   "cell_type": "markdown",
   "metadata": {},
   "source": [
    "So the nearest neighbor algorithm is a lot faster, but it didn't find the shortest tour. To understand where it went wrong, it would be helpful to know what city it started from.  I can modify `plot_tour` by adding one line of code to highlight the start city with a red square:"
   ]
  },
  {
   "cell_type": "code",
   "execution_count": null,
   "metadata": {},
   "outputs": [],
   "source": [
    "def plot_tour(tour):\n",
    "    \"Plot the cities as circles and the tour as lines between them. Start city is red square.\"\n",
    "    start = tour[0]\n",
    "    plot_lines(list(tour) + [start])\n",
    "    plot_lines([start], 'rs') # Mark the start city with a red square"
   ]
  },
  {
   "cell_type": "code",
   "execution_count": null,
   "metadata": {},
   "outputs": [],
   "source": [
    "plot_tsp(nn_tsp, Cities(10))"
   ]
  },
  {
   "cell_type": "markdown",
   "metadata": {},
   "source": [
    "We can see that the tour moves clockwise from the start city, and mostly makes good decisions, but not optimal ones.\n",
    "\n",
    "We can compare the performance of these two algorithms on, say, eleven different sets of cities instead of just one:"
   ]
  },
  {
   "cell_type": "code",
   "execution_count": null,
   "metadata": {},
   "outputs": [],
   "source": [
    "def length_ratio(cities): \n",
    "    \"The ratio of the tour lengths for nn_tsp and alltours_tsp algorithms.\"\n",
    "    return tour_length(nn_tsp(cities)) / tour_length(alltours_tsp(cities))\n",
    "\n",
    "sorted(length_ratio(Cities(8, seed=i*i)) for i in range(11))"
   ]
  },
  {
   "cell_type": "markdown",
   "metadata": {},
   "source": [
    "The ratio of `1.0` means the two algorithms got the same (optimal) result; that happened 4 times out of 10.  The other times, we see that the `nn_tsp` produces a longer tour, by anything up to 21% worse, with a median of 1% worse.\n",
    "\n",
    "But more important than that 1% (or even 21%) difference is that the nearest neighbor algorithm can quickly tackle problems that the all tours algorithm can't touch in the lifetime of the universe.  Finding a tour of 1000 cities takes well under a second:"
   ]
  },
  {
   "cell_type": "code",
   "execution_count": null,
   "metadata": {},
   "outputs": [],
   "source": [
    "plot_tsp(nn_tsp, Cities(1000))"
   ]
  },
  {
   "cell_type": "markdown",
   "metadata": {},
   "source": [
    "Can we do better?   Can we combine the speed of the nearest neighbor algorithm with the optimality of the all tours algorithm? \n",
    "\n",
    "Let's consider where `nn_tsp` can go wrong. At the end of `plot_tsp(nn_tsp, Cities(10))`, we see a very long edge, because there are no remaining cities near by.  In a way, this just seems like bad luck&mdash;we started in a place that left us with no good choices at the end.  Just as with buying lottery tickets, we could improve our chance of winning by trying more often; in other words, by using the **repetition strategy**."
   ]
  },
  {
   "cell_type": "markdown",
   "metadata": {},
   "source": [
    "## Repeated Nearest Neighbor Algorithm: `repeated_nn_tsp`"
   ]
  },
  {
   "cell_type": "markdown",
   "metadata": {},
   "source": [
    "Here is an easy way to apply the **repetition** strategy to improve **nearest neighbors**:\n",
    "\n",
    "> **Repeated Nearest Neighbor Algorithm:** *For each of the cities, run the nearest neighbor algorithm with that city as the starting point, and choose the resulting tour with the shortest total distance.*\n",
    "\n",
    "So, with *n* cities we could run the `nn_tsp` algorithm *n* times, regrettably making the total run time *n* times longer, but hopefully making at least one of the *n* tours shorter. \n",
    "\n",
    "To implement  `repeated_nn_tsp` we just take the shortest tour over all starting cities:"
   ]
  },
  {
   "cell_type": "code",
   "execution_count": null,
   "metadata": {},
   "outputs": [],
   "source": [
    "def repeated_nn_tsp(cities):\n",
    "    \"Repeat the nn_tsp algorithm starting from each city; return the shortest tour.\"\n",
    "    return shortest_tour(nn_tsp(cities, start) \n",
    "                         for start in cities)"
   ]
  },
  {
   "cell_type": "markdown",
   "metadata": {},
   "source": [
    "To do that requires a modification of `nn_tsp` so that the `start` city can be specified as an optional argument:"
   ]
  },
  {
   "cell_type": "code",
   "execution_count": null,
   "metadata": {},
   "outputs": [],
   "source": [
    "def nn_tsp(cities, start=None):\n",
    "    \"\"\"Start the tour at the first city; at each step extend the tour \n",
    "    by moving from the previous city to its nearest neighbor \n",
    "    that has not yet been visited.\"\"\"\n",
    "    if start is None: start = first(cities)\n",
    "    tour = [start]\n",
    "    unvisited = set(cities - {start})\n",
    "    while unvisited:\n",
    "        C = nearest_neighbor(tour[-1], unvisited)\n",
    "        tour.append(C)\n",
    "        unvisited.remove(C)\n",
    "    return tour"
   ]
  },
  {
   "cell_type": "code",
   "execution_count": null,
   "metadata": {},
   "outputs": [],
   "source": [
    "# Compare nn_tsp to repeated_nn_tsp\n",
    "plot_tsp(nn_tsp, Cities(100))\n",
    "plot_tsp(repeated_nn_tsp, Cities(100))"
   ]
  },
  {
   "cell_type": "markdown",
   "metadata": {},
   "source": [
    "We see that `repeated_nn_tsp` does indeed take longer to run, and yields a tour that is shorter.  \n",
    "\n",
    "Let's try again with a smaller map that makes it easier to visualize the tours:"
   ]
  },
  {
   "cell_type": "code",
   "execution_count": null,
   "metadata": {},
   "outputs": [],
   "source": [
    "for f in [nn_tsp, repeated_nn_tsp, alltours_tsp]:\n",
    "    plot_tsp(f, Cities(10))"
   ]
  },
  {
   "cell_type": "markdown",
   "metadata": {},
   "source": [
    "This time the `repeated_nn_tsp` gives us a tour that is better than `nn_tsp`, but not quite optimal.  So, it looks like repetition is helping.  But if I want to tackle 1000 cities, I don't really want the run time to be 1000 times slower.  I'd like a way to moderate the repetition&mdash;to repeat the `nn_tsp` starting from *a sample* of the cities but not *all* the cities.\n",
    "\n",
    "# Sampled Repeated Nearest Neighbor Algorithm: revised `repeated_nn_tsp`\n",
    "\n",
    "\n",
    "We can give `repeated_nn_tsp` an optional argument specifying the number of different cities to try starting from. We will implement the function `sample` to draw a random sample of the specified size from all the cities.  Most of the work is done by the standard library function `random.sample`. What our `sample` adds is the same thing we did with the function `Cities`: we ensure that the function returns the same result each time for the same arguments, but can return different results if a `seed` parameter is passed in.  (In addition, if the sample size, `k` is `None` or is larger than the population, then return the whole population.)"
   ]
  },
  {
   "cell_type": "code",
   "execution_count": null,
   "metadata": {},
   "outputs": [],
   "source": [
    "def repeated_nn_tsp(cities, repetitions=100):\n",
    "    \"Repeat the nn_tsp algorithm starting from specified number of cities; return the shortest tour.\"\n",
    "    return shortest_tour(nn_tsp(cities, start) \n",
    "                         for start in sample(cities, repetitions))\n",
    "\n",
    "def sample(population, k, seed=42):\n",
    "    \"Return a list of k elements sampled from population. Set random.seed with seed.\"\n",
    "    if k is None or k > len(population): \n",
    "        return population\n",
    "    random.seed(len(population) * k * seed)\n",
    "    return random.sample(population, k)"
   ]
  },
  {
   "cell_type": "markdown",
   "metadata": {},
   "source": [
    "Let's compare with 1, 10, and 100 starting cities on a 300 city map:"
   ]
  },
  {
   "cell_type": "code",
   "execution_count": null,
   "metadata": {},
   "outputs": [],
   "source": [
    "def repeat_10_nn_tsp(cities): return repeated_nn_tsp(cities, 10)\n",
    "def repeat_100_nn_tsp(cities): return repeated_nn_tsp(cities, 100)"
   ]
  },
  {
   "cell_type": "code",
   "execution_count": null,
   "metadata": {},
   "outputs": [],
   "source": [
    "plot_tsp(nn_tsp, Cities(300))\n",
    "plot_tsp(repeat_10_nn_tsp, Cities(300))\n",
    "plot_tsp(repeat_100_nn_tsp, Cities(300))"
   ]
  },
  {
   "cell_type": "markdown",
   "metadata": {},
   "source": [
    "As we add more starting cities, the run times get longer and the tours get shorter.\n",
    "\n",
    "I'd like to understand the tradefoff better.  I'd like to have a way to compare different algorithms (or different choices of parameters for one algorithm) over *multiple* trials, and summarize the results. That means we now have a new vocabulary item:\n",
    "\n",
    "# New Vocabulary: \"Maps\"\n",
    "\n",
    "\n",
    "We use the term *cities* and the function `Cities` to denote a set of cities.  But now I want to talk about multiple trials over a collection of sets of cities: a plural of a plural.  English doesn't give us a good way to do that, so it would be nice to have a *singular* noun that is a synonym for \"set of cities.\"  We'll use the term \"map\" for this, and the function `Maps` to create a collection of maps.  Just like `Cities`, the function `Maps` will give the same result every time it is called with the same arguments."
   ]
  },
  {
   "cell_type": "code",
   "execution_count": null,
   "metadata": {},
   "outputs": [],
   "source": [
    "def Maps(num_maps, num_cities):\n",
    "    \"Return a tuple of maps, each consisting of the given number of cities.\"\n",
    "    return tuple(Cities(num_cities, seed=(m, num_cities))\n",
    "                 for m in range(num_maps))"
   ]
  },
  {
   "cell_type": "markdown",
   "metadata": {},
   "source": [
    "# Benchmarking\n",
    "\n",
    "The term *benchmarking* means running a function on a standard collection of inputs, in order to compare its performance. We'll define a general-purpose function, `benchmark`, which takes a function and a collection of inputs for that function, and runs the function on each of the inputs.  It then returns two values: the average time taken per input, and the list of results of the function."
   ]
  },
  {
   "cell_type": "code",
   "execution_count": null,
   "metadata": {},
   "outputs": [],
   "source": [
    "@functools.lru_cache(None)\n",
    "def benchmark(function, inputs):\n",
    "    \"Run function on all the inputs; return pair of (average_time_taken, results).\"\n",
    "    t0           = time.clock()\n",
    "    results      = [function(x) for x in inputs]\n",
    "    t1           = time.clock()\n",
    "    average_time = (t1 - t0) / len(inputs)\n",
    "    return (average_time, results)"
   ]
  },
  {
   "cell_type": "markdown",
   "metadata": {},
   "source": [
    "Note: Each time we develop a new algorithm, we would like to compare its performance to some standard old algorithms.\n",
    "The use of `@functools.lru_cache` here means that we don't need to to re-run the old algorithms on a standard data set each time; we can just cache the old results. \n",
    "\n",
    "We can use `benchmark` to see the average call to the absolute value function takes less than a microsecond:"
   ]
  },
  {
   "cell_type": "code",
   "execution_count": null,
   "metadata": {},
   "outputs": [],
   "source": [
    "benchmark(abs, range(-10, 10))"
   ]
  },
  {
   "cell_type": "markdown",
   "metadata": {},
   "source": [
    "And we can see that `alltours_tsp` can handle 6-city maps in under a millisecond each:"
   ]
  },
  {
   "cell_type": "code",
   "execution_count": null,
   "metadata": {},
   "outputs": [],
   "source": [
    "benchmark(alltours_tsp, Maps(10, 6))"
   ]
  },
  {
   "cell_type": "markdown",
   "metadata": {},
   "source": [
    "# Benchmarking Specifically for TSP Algorithms\n",
    "\n",
    "Now let's add another function, `benchmarks`, which builds on `benchmark` in two ways:\n",
    "\n",
    "1. It compares multiple algorithms, rather than just running one algorithm. (Hence the plural `benchmarks`.)\n",
    "2. It is specific to `TSP` algorithms, and rather than returning results, it prints summary statistics: the mean, standard deviation, min, and max of tour lengths, as well as the time taken and the number and size of the sets of cities."
   ]
  },
  {
   "cell_type": "code",
   "execution_count": null,
   "metadata": {},
   "outputs": [],
   "source": [
    "def benchmarks(tsp_algorithms, maps=Maps(30, 60)):\n",
    "    \"Print benchmark statistics for each of the algorithms.\"    \n",
    "    for tsp in tsp_algorithms:\n",
    "        time, results = benchmark(tsp, maps)\n",
    "        lengths = [tour_length(r) for r in results]\n",
    "        print(\"{:>25} |{:7.0f} ±{:4.0f} ({:5.0f} to {:5.0f}) |{:7.3f} secs/map | {} ⨉ {}-city maps\"\n",
    "              .format(tsp.__name__, mean(lengths), stdev(lengths), min(lengths), max(lengths),\n",
    "                      time, len(maps), len(maps[0])))"
   ]
  },
  {
   "cell_type": "markdown",
   "metadata": {},
   "source": [
    "How Many Starting Cities is best for `nn_tsp`?\n",
    "---\n",
    "\n",
    "Now we are in a position to gain some insight into how many repetitions, or starting cities, we need to get a good result from `nn_tsp`."
   ]
  },
  {
   "cell_type": "code",
   "execution_count": null,
   "metadata": {},
   "outputs": [],
   "source": [
    "def repeat_25_nn_tsp(cities): return repeated_nn_tsp(cities, 25)\n",
    "def repeat_50_nn_tsp(cities): return repeated_nn_tsp(cities, 50)"
   ]
  },
  {
   "cell_type": "code",
   "execution_count": null,
   "metadata": {},
   "outputs": [],
   "source": [
    "algorithms = [nn_tsp, repeat_10_nn_tsp, repeat_25_nn_tsp, repeat_50_nn_tsp, repeat_100_nn_tsp]\n",
    "\n",
    "benchmarks(algorithms, Maps(30, 60))"
   ]
  },
  {
   "cell_type": "markdown",
   "metadata": {},
   "source": [
    "We see that adding more starting cities results in shorter tours, but you start getting diminishing returns after 50 repetitions.\n",
    "\n",
    "Let's try again with bigger maps:"
   ]
  },
  {
   "cell_type": "code",
   "execution_count": null,
   "metadata": {},
   "outputs": [],
   "source": [
    "benchmarks(algorithms, Maps(30, 120))"
   ]
  },
  {
   "cell_type": "code",
   "execution_count": null,
   "metadata": {},
   "outputs": [],
   "source": [
    "benchmarks(algorithms, Maps(30, 150))"
   ]
  },
  {
   "cell_type": "markdown",
   "metadata": {},
   "source": [
    "The results are similar. So depending on what your priorities are (run time versus tour length), somewhere around 25 or 50 repetitions might be a good tradeoff.\n",
    "\n",
    "Next let's try to analyze where nearest neighbors goes wrong, and see if we can do something about it."
   ]
  },
  {
   "cell_type": "markdown",
   "metadata": {},
   "source": [
    "# A Problem with Nearest Neighbors: Outliers"
   ]
  },
  {
   "cell_type": "markdown",
   "metadata": {},
   "source": [
    "Consider the 20-city map that we build below:"
   ]
  },
  {
   "cell_type": "code",
   "execution_count": null,
   "metadata": {},
   "outputs": [],
   "source": [
    "outliers_list = [City(2, 2),  City(2, 3),  City(2, 4),  City(2, 5),  City(2, 6),  \n",
    "                 City(3, 6),  City(4, 6),  City(5, 6),  City(6, 6),  \n",
    "                 City(6, 5),  City(6, 4),  City(6, 3),  City(6, 2),  \n",
    "                 City(5, 2),  City(4, 2),  City(3, 2),  \n",
    "                 City(1, 6.8),  City(7.8, 6.4),  City(7, 1.2),  City(0.2, 2.8)]\n",
    "\n",
    "outliers = set(outliers_list)\n",
    "\n",
    "plot_lines(outliers, 'bo')"
   ]
  },
  {
   "cell_type": "markdown",
   "metadata": {},
   "source": [
    "Let's see what a nearest neighbor search does on this map:"
   ]
  },
  {
   "cell_type": "code",
   "execution_count": null,
   "metadata": {},
   "outputs": [],
   "source": [
    "plot_tsp(nn_tsp, outliers)"
   ]
  },
  {
   "cell_type": "markdown",
   "metadata": {},
   "source": [
    "The tour starts out going around the inner square.  But then we are left with long lines to pick up the outliers. \n",
    "Let's try to understand what went wrong.  First we'll create a new tool to draw better diagrams:"
   ]
  },
  {
   "cell_type": "code",
   "execution_count": null,
   "metadata": {},
   "outputs": [],
   "source": [
    "def plot_labeled_lines(points, *args):\n",
    "    \"\"\"Plot individual points, labeled with an index number.\n",
    "    Then, args describe lines to draw between those points.\n",
    "    An arg can be a matplotlib style, like 'ro--', which sets the style until changed,\n",
    "    or it can be a list of indexes of points, like [0, 1, 2], saying what line to draw.\"\"\"\n",
    "    # Draw points and label them with their index number\n",
    "    plot_lines(points, 'bo')\n",
    "    for (label, p) in enumerate(points):\n",
    "        plt.text(p.x, p.y, '  '+str(label))\n",
    "    # Draw lines indicated by args\n",
    "    style = 'bo-'\n",
    "    for arg in args:\n",
    "        if isinstance(arg, str):\n",
    "            style = arg\n",
    "        else: # arg is a list of indexes into points, forming a line\n",
    "            Xs = [points[i].x for i in arg]\n",
    "            Ys = [points[i].y for i in arg]\n",
    "            plt.plot(Xs, Ys, style)\n",
    "    plt.axis('scaled'); plt.axis('off'); plt.show()        "
   ]
  },
  {
   "cell_type": "markdown",
   "metadata": {},
   "source": [
    "In the diagram below, imagine we are running a nearest neighbor algorithm, and it has created a partial tour from city 0 to city 4.  Now there is a choice.  City 5 is the nearest neighbor.  But if we don't take city 16 at this point, we will have to pay a higher price sometime later to pick up city 16.  "
   ]
  },
  {
   "cell_type": "code",
   "execution_count": null,
   "metadata": {},
   "outputs": [],
   "source": [
    "plot_labeled_lines(outliers_list, 'bo-', [0, 1, 2, 3, 4], 'ro--', [4, 16], 'bo--', [4, 5])"
   ]
  },
  {
   "cell_type": "markdown",
   "metadata": {},
   "source": [
    "It seems that picking up an outlier is *sometimes* a good idea, but sometimes going directly to the nearest neighbor is a better idea. So what can we do?  It is difficult to make the choice between an outlier and a nearest neighbor while we are constructing a tour, because we don't have the context of the whole tour yet. So here's an alternative idea: don't try to make the right choice while constructing the tour; just go ahead and make any choice, then when the tour is complete, *alter* it to correct problems caused by outliers (or other causes)."
   ]
  },
  {
   "cell_type": "markdown",
   "metadata": {},
   "source": [
    "# New Vocabulary: \"Segment\"\n",
    "\n",
    "\n",
    "We'll define a *segment* as a subsequence of a tour: a sequence of consecutive cities within a tour. A tour forms a loop, but a segment does not have a loop; it is open-ended on both ends. So, if `[A, B, C, D]` is a 4-city tour, then segments include `[A, B]`, `[B, C, D]`, and many others.  Note that the segment `[A, B, C, D]` is different than the tour `[A, B, C, D]`; the tour returns from `D` to `A` but the segment does not. \n",
    "\n",
    "# Altering Tours by Reversing Segments\n",
    "\n",
    "\n",
    "One way we could try to improve a tour is by *reversing* a segment.  Consider this tour:"
   ]
  },
  {
   "cell_type": "code",
   "execution_count": null,
   "metadata": {},
   "outputs": [],
   "source": [
    "cross = [City(9, 3),  City(3, 10),  City(2, 16),  City(3, 21),  City(9, 28), \n",
    "         City(26, 3), City(32, 10), City(33, 16), City(32, 21), City(26, 28)]\n",
    "\n",
    "plot_labeled_lines(cross, range(-1,10))"
   ]
  },
  {
   "cell_type": "markdown",
   "metadata": {},
   "source": [
    "This is clearly not an optimal tour.  We should \"uncross\" the lines, which can be achieved by reversing a segment.  The tour as it stands is `[0, 1, 2, 3, 4, 5, 6, 7, 8, 9]`.  If we reverse the segment `[5, 6, 7, 8, 9]`, we get the tour `[0, 1, 2, 3, 4, 9, 8, 7, 6, 5]`, which is the optimal tour.  In the diagram below, reversing `[5, 6, 7, 8, 9]` is equivalent to deleting the  red  dashed lines and adding the green dotted lines. If the sum of the lengths of the green dotted lines is less than the sum of the lengths of the red dashed lines, then we know the reversal is an improvement."
   ]
  },
  {
   "cell_type": "code",
   "execution_count": null,
   "metadata": {},
   "outputs": [],
   "source": [
    "plot_labeled_lines(cross, 'bo-', range(5), range(5, 10), \n",
    "                          'g:', (4, 9), (0, 5), \n",
    "                          'r--', (4, 5), (0, 9))"
   ]
  },
  {
   "cell_type": "markdown",
   "metadata": {},
   "source": [
    "Here we see that reversing `[5, 6, 7, 8, 9]` works:"
   ]
  },
  {
   "cell_type": "code",
   "execution_count": null,
   "metadata": {},
   "outputs": [],
   "source": [
    "tour = Tour(cross)\n",
    "tour[5:10] = reversed(tour[5:10])\n",
    "plot_tour(tour)"
   ]
  },
  {
   "cell_type": "markdown",
   "metadata": {},
   "source": [
    "Here is how we can check if reversing a segment is an improvement, and if so to do it:"
   ]
  },
  {
   "cell_type": "code",
   "execution_count": null,
   "metadata": {},
   "outputs": [],
   "source": [
    "def reverse_segment_if_better(tour, i, j):\n",
    "    \"If reversing tour[i:j] would make the tour shorter, then do it.\" \n",
    "    # Given tour [...A-B...C-D...], consider reversing B...C to get [...A-C...B-D...]\n",
    "    A, B, C, D = tour[i-1], tour[i], tour[j-1], tour[j % len(tour)]\n",
    "    # Are old edges (AB + CD) longer than new ones (AC + BD)? If so, reverse segment.\n",
    "    if distance(A, B) + distance(C, D) > distance(A, C) + distance(B, D):\n",
    "        tour[i:j] = reversed(tour[i:j])"
   ]
  },
  {
   "cell_type": "markdown",
   "metadata": {},
   "source": [
    "Now let's write a function, `alter_tour`, which finds segments to swap. What segments should we consider? I don't know how to be clever about the choice, but I do know how to be fairly thorough: try all segments of all lengths at all starting positions. I have an intuition that trying longer ones first is better (although I'm not sure). \n",
    "\n",
    "I worry that even trying all segements won't be enough: after I reverse one segment, it might open up opportunities to reverse other segments.  So, after trying all possible segments, I'll check the tour length.  If it has been reduced, I'll go through the `alter_tour` process again."
   ]
  },
  {
   "cell_type": "code",
   "execution_count": null,
   "metadata": {},
   "outputs": [],
   "source": [
    "def alter_tour(tour):\n",
    "    \"Try to alter tour for the better by reversing segments.\"\n",
    "    original_length = tour_length(tour)\n",
    "    for (start, end) in all_segments(len(tour)):\n",
    "        reverse_segment_if_better(tour, start, end)\n",
    "    # If we made an improvement, then try again; else stop and return tour.\n",
    "    if tour_length(tour) < original_length:\n",
    "        return alter_tour(tour)\n",
    "    return tour\n",
    "\n",
    "def all_segments(N):\n",
    "    \"Return (start, end) pairs of indexes that form segments of tour of length N.\"\n",
    "    return [(start, start + length)\n",
    "            for length in range(N, 2-1, -1)\n",
    "            for start in range(N - length + 1)]"
   ]
  },
  {
   "cell_type": "markdown",
   "metadata": {},
   "source": [
    "Here is what the list of all segments look like, for N=4:"
   ]
  },
  {
   "cell_type": "code",
   "execution_count": null,
   "metadata": {},
   "outputs": [],
   "source": [
    "all_segments(4)"
   ]
  },
  {
   "cell_type": "markdown",
   "metadata": {},
   "source": [
    "We can see that altering the cross tour does straighten it out:"
   ]
  },
  {
   "cell_type": "code",
   "execution_count": null,
   "metadata": {},
   "outputs": [],
   "source": [
    "plot_tour(alter_tour(Tour(cross)))"
   ]
  },
  {
   "cell_type": "markdown",
   "metadata": {},
   "source": [
    "Altered Nearest Neighbor Algorithm (`altered_nn_tsp`)\n",
    "----\n",
    "\n",
    "Let's see what happens when we alter the output of `nn_tsp`:"
   ]
  },
  {
   "cell_type": "code",
   "execution_count": null,
   "metadata": {},
   "outputs": [],
   "source": [
    "def altered_nn_tsp(cities):\n",
    "    \"Run nearest neighbor TSP algorithm, and alter the results by reversing segments.\"\n",
    "    return alter_tour(nn_tsp(cities))"
   ]
  },
  {
   "cell_type": "markdown",
   "metadata": {},
   "source": [
    "Let's try this new algorithm on some test cases:"
   ]
  },
  {
   "cell_type": "code",
   "execution_count": null,
   "metadata": {},
   "outputs": [],
   "source": [
    "plot_tsp(altered_nn_tsp, set(cross))"
   ]
  },
  {
   "cell_type": "code",
   "execution_count": null,
   "metadata": {},
   "outputs": [],
   "source": [
    "plot_tsp(altered_nn_tsp, Cities(10))"
   ]
  },
  {
   "cell_type": "markdown",
   "metadata": {},
   "source": [
    "It fails to get the optimal result here.  Let's try benchmarking:"
   ]
  },
  {
   "cell_type": "code",
   "execution_count": null,
   "metadata": {},
   "outputs": [],
   "source": [
    "algorithms = [nn_tsp, repeat_50_nn_tsp, altered_nn_tsp]\n",
    "\n",
    "benchmarks(algorithms)"
   ]
  },
  {
   "cell_type": "markdown",
   "metadata": {},
   "source": [
    "This is quite encouraging; `altered_nn_tsp` gives shorter tours and is  faster than repeating nearest neighbors from 50 starting cities. Could we do better?\n",
    "\n",
    "Altered Repeated Nearest Neighbor Algorithm (`altered_repeated_nn_tsp`)\n",
    "---\n",
    "\n",
    "We have seen that the *nearest neighbor* algorithm is improved by both the *alteration* and *repetition* strategies. So why not apply both strategies?  "
   ]
  },
  {
   "cell_type": "code",
   "execution_count": null,
   "metadata": {},
   "outputs": [],
   "source": [
    "def repeated_altered_nn_tsp(cities, repetitions=20): \n",
    "    \"Use alteration to improve each repetition of nearest neighbors.\"\n",
    "    return shortest_tour(alter_tour(nn_tsp(cities, start)) \n",
    "                         for start in sample(cities, repetitions))\n",
    "\n",
    "def repeat_5_altered_nn_tsp(cities): return repeated_altered_nn_tsp(cities, 5)"
   ]
  },
  {
   "cell_type": "markdown",
   "metadata": {},
   "source": [
    "Let's see it in action:"
   ]
  },
  {
   "cell_type": "code",
   "execution_count": null,
   "metadata": {},
   "outputs": [],
   "source": [
    "plot_tsp(repeated_altered_nn_tsp, Cities(100))"
   ]
  },
  {
   "cell_type": "markdown",
   "metadata": {},
   "source": [
    "That looks like a good tour.  Let's gather more data:"
   ]
  },
  {
   "cell_type": "code",
   "execution_count": null,
   "metadata": {},
   "outputs": [],
   "source": [
    "algorithms = [nn_tsp, repeat_50_nn_tsp, altered_nn_tsp, repeated_altered_nn_tsp]\n",
    "\n",
    "benchmarks(algorithms)\n",
    "print('-' * 100)\n",
    "benchmarks(algorithms, Maps(30, 120))"
   ]
  },
  {
   "cell_type": "markdown",
   "metadata": {},
   "source": [
    "So, alteration gives the most gain, but alteration plus repetition gives a modest improvement in tour length, at the cost of 20 times more run time. "
   ]
  },
  {
   "cell_type": "markdown",
   "metadata": {},
   "source": [
    "Non-Random Maps\n",
    "===="
   ]
  },
  {
   "cell_type": "markdown",
   "metadata": {},
   "source": [
    "I thought it would be fun to work on some *real* maps, instead of random maps. First I found [a page](http://www.realestate3d.com/gps/latlong.htm) that lists geographical coordinates of US cities.  Here is an excerpt from that page:\n",
    "\n",
    "<pre>\n",
    "[TCL]  33.23   87.62  Tuscaloosa,AL\n",
    "[FLG]  35.13  111.67  Flagstaff,AZ\n",
    "[PHX]  33.43  112.02  Phoenix,AZ\n",
    "</pre>\n",
    "\n",
    "I also found a [blog post](http://www.randalolson.com/2015/03/08/computing-the-optimal-road-trip-across-the-u-s/) by Randal S. Olson who chose 50 landmarks across the states and found a tour based on actual road-travel distances, not straight-line distance. His data looks like this:\n",
    "\n",
    "<pre>\n",
    "Mount Rushmore National Memorial, South Dakota 244, Keystone, SD\t43.879102\t-103.459067\n",
    "Toltec Mounds, Scott, AR\t34.647037\t-92.065143\n",
    "Ashfall Fossil Bed, Royal, NE\t42.425000\t-98.158611\n",
    "</pre> \n",
    "You can't see, but fields are separated by tabs in this data.\n",
    "\n",
    "Now we have a problem: we have two similar but different data formats, and we want to convert both of them to `Maps` (sets of cities).  Python provides a module, [`csv`](https://docs.python.org/3/library/csv.html) (for \"comma-separated values\"), to parse data like this.  The function `csv.reader` takes an input that should be an iterable over lines of text, and optionally you can tell it what character to use as a delimiter (as well as several other options). For each line, it generates a\n",
    "list of fields.  For example, for the line `\"[TCL]  33.23   87.62  Tuscaloosa,AL\"`  it would generate the list `['[TCL]', '33.23', '87.62', 'Tuscaloosa,AL']`.\n",
    "\n",
    "I define the function `Coordinate_map` to take an iterable of lines (a file object or a list of strings), parse it with `csv_reader`, pick out the latitude and longitude columns, and build a `City` out of each one:"
   ]
  },
  {
   "cell_type": "code",
   "execution_count": null,
   "metadata": {},
   "outputs": [],
   "source": [
    "def lines(text): return text.strip().splitlines()\n",
    "\n",
    "def Coordinate_map(lines, delimiter=' ', lat_col=1, long_col=2, lat_scale=69, long_scale=-48):\n",
    "    \"\"\"Make a set of Cities from an iterable of lines of text.\n",
    "    Specify the column delimiter, and the zero-based column number of lat and long.\n",
    "    Treat long/lat as a square x/y grid, scaled by long_scale and lat_scale.\n",
    "    Source can be a file object, or list of lines.\"\"\"\n",
    "    return frozenset(City(long_scale * float(row[long_col]), \n",
    "                          lat_scale  * float(row[lat_col]))\n",
    "                     for row in csv.reader(lines, delimiter=delimiter, skipinitialspace=True))"
   ]
  },
  {
   "cell_type": "markdown",
   "metadata": {},
   "source": [
    "You might be wondering about the `lat_scale=69, long_scale=-48` part. The issue is that we have latitude and longitude for cities, and we want to compute the distance between cities. To do that accurately requires [complicated trigonometry](http://en.wikipedia.org/wiki/Haversine_formula).  But we can get an approximation by assuming the earth is flat, and that latitude and longitude are on a rectangular grid. (This is a bad approximation if you're talking about distances of 10,000 miles, but close enough for 100 miles, as long as you're not too close to the poles.)  I took the latitude of the center of the country (Wichita, KS: latitude 37.65) and plugged it into a [Length Of A Degree Of Latitude\n",
    "And Longitude Calculator](http://www.csgnetwork.com/degreelenllavcalc.html) to find that, in Wichita, one degree of latitude is 69 miles, and one degree of longitude is 48 miles.  (It is -48 rather than +48 because the US is west of the prime meridian.) \n",
    "\n",
    "Now let's create the map of USA cities, and find a tour for it:"
   ]
  },
  {
   "cell_type": "code",
   "execution_count": null,
   "metadata": {},
   "outputs": [],
   "source": [
    "USA_map = Coordinate_map(lines(\"\"\"\n",
    "[TCL]  33.23   87.62  Tuscaloosa,AL\n",
    "[FLG]  35.13  111.67  Flagstaff,AZ\n",
    "[PHX]  33.43  112.02  Phoenix,AZ\n",
    "[PGA]  36.93  111.45  Page,AZ\n",
    "[TUS]  32.12  110.93  Tucson,AZ\n",
    "[LIT]  35.22   92.38  Little Rock,AR\n",
    "[SFO]  37.62  122.38  San Francisco,CA\n",
    "[LAX]  33.93  118.40  Los Angeles,CA\n",
    "[SAC]  38.52  121.50  Sacramento,CA\n",
    "[SAN]  32.73  117.17  San Diego,CA\n",
    "[SBP]  35.23  120.65  San Luis Obi,CA\n",
    "[EKA]  41.33  124.28  Eureka,CA\n",
    "[DEN]  39.75  104.87  Denver,CO\n",
    "[DCA]  38.85   77.04  Washington/Natl,DC\n",
    "[MIA]  25.82   80.28  Miami Intl,FL\n",
    "[TPA]  27.97   82.53  Tampa Intl,FL\n",
    "[JAX]  30.50   81.70  Jacksonville,FL\n",
    "[TLH]  30.38   84.37  Tallahassee,FL\n",
    "[ATL]  33.65   84.42  Atlanta,GA\n",
    "[BOI]  43.57  116.22  Boise,ID\n",
    "[CHI]  41.90   87.65  Chicago,IL\n",
    "[IND]  39.73   86.27  Indianapolis,IN\n",
    "[DSM]  41.53   93.65  Des Moines,IA\n",
    "[SUX]  42.40   96.38  Sioux City,IA\n",
    "[ICT]  37.65   97.43  Wichita,KS\n",
    "[LEX]  38.05   85.00  Lexington,KY\n",
    "[NEW]  30.03   90.03  New Orleans,LA\n",
    "[BOS]  42.37   71.03  Boston,MA\n",
    "[PWM]  43.65   70.32  Portland,ME\n",
    "[BGR]  44.80   68.82  Bangor,ME\n",
    "[CAR]  46.87   68.02  Caribou Mun,ME\n",
    "[DET]  42.42   83.02  Detroit,MI\n",
    "[STC]  45.55   94.07  St Cloud,MN\n",
    "[DLH]  46.83   92.18  Duluth,MN\n",
    "[STL]  38.75   90.37  St Louis,MO\n",
    "[JAN]  32.32   90.08  Jackson,MS\n",
    "[BIL]  45.80  108.53  Billings,MT\n",
    "[BTM]  45.95  112.50  Butte,MT\n",
    "[RDU]  35.87   78.78  Raleigh-Durh,NC\n",
    "[INT]  36.13   80.23  Winston-Salem,NC\n",
    "[OMA]  41.30   95.90  Omaha/Eppley,NE\n",
    "[LAS]  36.08  115.17  Las Vegas,NV\n",
    "[RNO]  39.50  119.78  Reno,NV\n",
    "[AWH]  41.33  116.25  Wildhorse,NV\n",
    "[EWR]  40.70   74.17  Newark Intl,NJ\n",
    "[SAF]  35.62  106.08  Santa Fe,NM\n",
    "[NYC]  40.77   73.98  New York,NY\n",
    "[BUF]  42.93   78.73  Buffalo,NY\n",
    "[ALB]  42.75   73.80  Albany,NY\n",
    "[FAR]  46.90   96.80  Fargo,ND\n",
    "[BIS]  46.77  100.75  Bismarck,ND\n",
    "[CVG]  39.05   84.67  Cincinnati,OH\n",
    "[CLE]  41.42   81.87  Cleveland,OH\n",
    "[OKC]  35.40   97.60  Oklahoma Cty,OK\n",
    "[PDX]  45.60  122.60  Portland,OR\n",
    "[MFR]  42.37  122.87  Medford,OR\n",
    "[AGC]  40.35   79.93  Pittsburgh,PA\n",
    "[PVD]  41.73   71.43  Providence,RI\n",
    "[CHS]  32.90   80.03  Charleston,SC\n",
    "[RAP]  44.05  103.07  Rapid City,SD\n",
    "[FSD]  43.58   96.73  Sioux Falls,SD\n",
    "[MEM]  35.05   90.00  Memphis Intl,TN\n",
    "[TYS]  35.82   83.98  Knoxville,TN\n",
    "[CRP]  27.77   97.50  Corpus Chrst,TX\n",
    "[DRT]  29.37  100.92  Del Rio,TX\n",
    "[IAH]  29.97   95.35  Houston,TX\n",
    "[SAT]  29.53   98.47  San Antonio,TX\n",
    "[LGU]  41.78  111.85  Logan,UT\n",
    "[SLC]  40.78  111.97  Salt Lake Ct,UT\n",
    "[SGU]  37.08  113.60  Saint George,UT\n",
    "[CNY]  38.77  109.75  Moab,UT\n",
    "[MPV]  44.20   72.57  Montpelier,VT\n",
    "[RIC]  37.50   77.33  Richmond,VA\n",
    "[BLI]  48.80  122.53  Bellingham,WA\n",
    "[SEA]  47.45  122.30  Seattle,WA\n",
    "[ALW]  46.10  118.28  Walla Walla,WA\n",
    "[GRB]  44.48   88.13  Green Bay,WI\n",
    "[MKE]  42.95   87.90  Milwaukee,WI\n",
    "[CYS]  41.15  104.82  Cheyenne,WY\n",
    "[SHR]  44.77  106.97  Sheridan,WY\n",
    "\"\"\"))"
   ]
  },
  {
   "cell_type": "code",
   "execution_count": null,
   "metadata": {},
   "outputs": [],
   "source": [
    "plot_lines(USA_map, 'bo')"
   ]
  },
  {
   "cell_type": "code",
   "execution_count": null,
   "metadata": {},
   "outputs": [],
   "source": [
    "plot_tsp(repeated_altered_nn_tsp, USA_map)"
   ]
  },
  {
   "cell_type": "markdown",
   "metadata": {},
   "source": [
    "Not bad! There are no obvious errors in the tour (although I'm not at all confident it is the optimal tour). \n",
    "\n",
    "Now let's do the same for Randal Olson's landmarks.  Note that the data is delimited by tabs, not spaces, and the longitude already has a minus sign, so we don't need another one in `long_scale`."
   ]
  },
  {
   "cell_type": "code",
   "execution_count": null,
   "metadata": {},
   "outputs": [],
   "source": [
    "USA_landmarks_map = Coordinate_map(lines(\"\"\"\n",
    "Mount Rushmore National Memorial, South Dakota 244, Keystone, SD\t43.879102\t-103.459067\n",
    "Toltec Mounds, Scott, AR\t34.647037\t-92.065143\n",
    "Ashfall Fossil Bed, Royal, NE\t42.425000\t-98.158611\n",
    "Maryland State House, 100 State Cir, Annapolis, MD 21401\t38.978828\t-76.490974\n",
    "The Mark Twain House & Museum, Farmington Avenue, Hartford, CT\t41.766759\t-72.701173\n",
    "Columbia River Gorge National Scenic Area, Oregon\t45.711564\t-121.519633\n",
    "Mammoth Cave National Park, Mammoth Cave Pkwy, Mammoth Cave, KY\t37.186998\t-86.100528\n",
    "Bryce Canyon National Park, Hwy 63, Bryce, UT\t37.593038\t-112.187089\n",
    "USS Alabama, Battleship Parkway, Mobile, AL\t30.681803\t-88.014426\n",
    "Graceland, Elvis Presley Boulevard, Memphis, TN\t35.047691\t-90.026049\n",
    "Wright Brothers National Memorial Visitor Center, Manteo, NC\t35.908226\t-75.675730\n",
    "Vicksburg National Military Park, Clay Street, Vicksburg, MS\t32.346550\t-90.849850\n",
    "Statue of Liberty, Liberty Island, NYC, NY\t40.689249\t-74.044500\n",
    "Mount Vernon, Fairfax County, Virginia\t38.729314\t-77.107386\n",
    "Fort Union Trading Post National Historic Site, Williston, North Dakota 1804, ND\t48.000160\t-104.041483\n",
    "San Andreas Fault, San Benito County, CA\t36.576088\t-120.987632\n",
    "Chickasaw National Recreation Area, 1008 W 2nd St, Sulphur, OK 73086\t34.457043\t-97.012213\n",
    "Hanford Site, Benton County, WA\t46.550684\t-119.488974\n",
    "Spring Grove Cemetery, Spring Grove Avenue, Cincinnati, OH\t39.174331\t-84.524997\n",
    "Craters of the Moon National Monument & Preserve, Arco, ID\t43.416650\t-113.516650\n",
    "The Alamo, Alamo Plaza, San Antonio, TX\t29.425967\t-98.486142\n",
    "New Castle Historic District, Delaware\t38.910832\t-75.527670\n",
    "Gateway Arch, Washington Avenue, St Louis, MO\t38.624647\t-90.184992\n",
    "West Baden Springs Hotel, West Baden Avenue, West Baden Springs, IN\t38.566697\t-86.617524\n",
    "Carlsbad Caverns National Park, Carlsbad, NM\t32.123169\t-104.587450\n",
    "Pikes Peak, Colorado\t38.840871\t-105.042260\n",
    "Okefenokee Swamp Park, Okefenokee Swamp Park Road, Waycross, GA\t31.056794\t-82.272327\n",
    "Cape Canaveral, FL\t28.388333\t-80.603611\n",
    "Glacier National Park, West Glacier, MT\t48.759613\t-113.787023\n",
    "Congress Hall, Congress Place, Cape May, NJ 08204\t38.931843\t-74.924184\n",
    "Olympia Entertainment, Woodward Avenue, Detroit, MI\t42.387579\t-83.084943\n",
    "Fort Snelling, Tower Avenue, Saint Paul, MN\t44.892850\t-93.180627\n",
    "Hoover Dam, Boulder City, CO\t36.012638\t-114.742225\n",
    "White House, Pennsylvania Avenue Northwest, Washington, DC\t38.897676\t-77.036530\n",
    "USS Constitution, Boston, MA\t42.372470\t-71.056575\n",
    "Omni Mount Washington Resort, Mount Washington Hotel Road, Bretton Woods, NH\t44.258120\t-71.441189\n",
    "Grand Canyon National Park, Arizona\t36.106965\t-112.112997\n",
    "The Breakers, Ochre Point Avenue, Newport, RI\t41.469858\t-71.298265\n",
    "Fort Sumter National Monument, Sullivan's Island, SC\t32.752348\t-79.874692\n",
    "Cable Car Museum, 94108, 1201 Mason St, San Francisco, CA 94108\t37.794781\t-122.411715\n",
    "Yellowstone National Park, WY 82190\t44.462085\t-110.642441\n",
    "French Quarter, New Orleans, LA\t29.958443\t-90.064411\n",
    "C. W. Parker Carousel Museum, South Esplanade Street, Leavenworth, KS\t39.317245\t-94.909536\n",
    "Shelburne Farms, Harbor Road, Shelburne, VT\t44.408948\t-73.247227\n",
    "Taliesin, County Road C, Spring Green, Wisconsin\t43.141031\t-90.070467\n",
    "Acadia National Park, Maine\t44.338556\t-68.273335\n",
    "Liberty Bell, 6th Street, Philadelphia, PA\t39.949610\t-75.150282\n",
    "Terrace Hill, Grand Avenue, Des Moines, IA\t41.583218\t-93.648542\n",
    "Lincoln Home National Historic Site Visitor Center, 426 South 7th Street, Springfield, IL\t39.797501\t-89.646211\n",
    "Lost World Caverns, Lewisburg, WV\t37.801788\t-80.445630\n",
    "\"\"\"), delimiter='\\t', long_scale=48)"
   ]
  },
  {
   "cell_type": "code",
   "execution_count": null,
   "metadata": {},
   "outputs": [],
   "source": [
    "plot_lines(USA_landmarks_map, 'bo')"
   ]
  },
  {
   "cell_type": "code",
   "execution_count": null,
   "metadata": {},
   "outputs": [],
   "source": [
    "plot_tsp(repeated_altered_nn_tsp, USA_landmarks_map)"
   ]
  },
  {
   "cell_type": "markdown",
   "metadata": {},
   "source": [
    "We can compare that to the tour that Randal Olson computed as the shortest based on road distances:\n",
    "\n",
    "<a href=\"http://www.randalolson.com/2015/03/08/computing-the-optimal-road-trip-across-the-u-s/\">\n",
    "<img src=\"http://norvig.com/ipython/best-road-trip-major-landmarks.jpg\">\n",
    "</a>\n",
    "\n",
    "The two tours are similar but not the same.  I think the difference is that roads through the rockies and along the coast of the Carolinas tend to be very windy, so Randal's tour avoids them, whereas my  program assumes staright-line roads and thus includes them. William Cook provides an\n",
    "analysis, and a [tour that is shorter](http://www.math.uwaterloo.ca/tsp/usa50/index.html) than either Randal's or mine.\n",
    "\n",
    "Now let's go back to the [original web page](http://www.realestate3d.com/gps/latlong.htm) to get a bigger map with over 1000 cities. A shell command fetches the file:"
   ]
  },
  {
   "cell_type": "code",
   "execution_count": null,
   "metadata": {},
   "outputs": [],
   "source": [
    "! [ -e latlong.htm ] || curl -O http://www.realestate3d.com/gps/latlong.htm"
   ]
  },
  {
   "cell_type": "markdown",
   "metadata": {},
   "source": [
    "I note that the page has some lines that I don't want, so I will filter out lines that are not in the continental US (that is, cities in Alaska or Hawaii), as well as header lines that do not start with `'['`."
   ]
  },
  {
   "cell_type": "code",
   "execution_count": null,
   "metadata": {},
   "outputs": [],
   "source": [
    "def continental_USA(line): \n",
    "    \"Does line denote a city in the continental United States?\"\n",
    "    return line.startswith('[') and ',AK' not in line and ',HI' not in line\n",
    "\n",
    "USA_big_map = Coordinate_map(filter(continental_USA, open('latlong.htm')))"
   ]
  },
  {
   "cell_type": "code",
   "execution_count": null,
   "metadata": {},
   "outputs": [],
   "source": [
    "plot_lines(USA_big_map, 'bo')"
   ]
  },
  {
   "cell_type": "markdown",
   "metadata": {},
   "source": [
    "Let's get a baseline tour with `nn_tsp`:"
   ]
  },
  {
   "cell_type": "code",
   "execution_count": null,
   "metadata": {},
   "outputs": [],
   "source": [
    "plot_tsp(nn_tsp, USA_big_map)"
   ]
  },
  {
   "cell_type": "markdown",
   "metadata": {},
   "source": [
    "Now try to improve on that with `repeat_100_nn_tsp` and with `repeat_5_altered_nn_tsp` (which will take a while with over 1000 cities):"
   ]
  },
  {
   "cell_type": "code",
   "execution_count": null,
   "metadata": {},
   "outputs": [],
   "source": [
    "plot_tsp(repeat_100_nn_tsp, USA_big_map)"
   ]
  },
  {
   "cell_type": "code",
   "execution_count": null,
   "metadata": {},
   "outputs": [],
   "source": [
    "plot_tsp(repeat_5_altered_nn_tsp, USA_big_map)"
   ]
  },
  {
   "cell_type": "markdown",
   "metadata": {},
   "source": [
    "Again we see that we do better by spending our run time budget on alteration rather than on repetition. This time we saved over 8,000 miles of travel in half a minute of computation!"
   ]
  },
  {
   "cell_type": "markdown",
   "metadata": {},
   "source": [
    "# Greedy Algorithm: `greedy_tsp`"
   ]
  },
  {
   "cell_type": "markdown",
   "metadata": {},
   "source": [
    "At the start of the *Approximate Algorithms* section, we mentioned two ideas:\n",
    "\n",
    "1. **Nearest Neighbor Algorithm:** Make the tour go from a city to its nearest neighbor. Repeat.\n",
    "2. **Greedy Algorithm:** Find the shortest distance between any two cities and include that in the tour. Repeat.\n",
    "\n",
    "It is time to develop the *greedy algorithm*, so-called because at every step it greedily adds to the tour the edge that is shortest (even if that is not best in terms of long-range planning).  The nearest neighbor algorithm always extended the tour by adding on to the end.  The greedy algorithm is different in that it doesn't have a notion of *end* of the tour; instead it keeps a *set* of partial segments. Here's a brief statement of the algorithm:\n",
    "\n",
    "> **Greedy Algorithm:** *Maintain a set of segments; intially each city defines its own 1-city segment. Find the shortest possible edge that connects two endpoints of two different segments, and join those segments with that edge. Repeat until we form a segment that tours all the cities.*\n",
    "\n",
    "On each step of the algorithm, we want to \"find the shortest possible edge that connects two endpoints.\" That seems like an expensive operation to do on each step. So we will add in some data structures to enable us to speed up the computation.  Here's a more detailed sketch of the algorithm:\n",
    "\n",
    "1. Pre-compute a list of **edges**, sorted by shortest edge first. An edge is a pair of cities; if the list contains `(A, B)` then it does not contain `(B, A)`, and it never contains `(A, A)`.\n",
    "2. Maintain a dict that maps **endpoints** to **segments**, e.g. `{A: [A, B, C, D], D: [A, B, C, D]}`. Initially, each city is the endpoint of its own 1-city-long segment, but as we join segments together, some cities are no longer endpoints and are removed from the dict.\n",
    "3. Go through the edges in shortest-first order. When you find an edge `(A, B)` such that both `A` and `B` are endpoints of different segments, then join the two segments together.  Maintain the endpoints dict to reflect this new segment. Stop when you create\n",
    "a segment that contains all the cities.\n",
    "\n",
    "\n",
    "Let's consider an example: assume we have seven cities,  labeled A through G.  Suppose CG happens to be the shortest edge.  We would add the edge to the partial tour, by joining the segment that contains C with the segment that contains G.  In this case, the joining is easy, because each segment is one city long; we join them to form a segment two cities long. We then look at the next shortest edge and continue the process, joining segments as we go, as shown in the table below. Some edges cannot be used.  For example, FD cannot be used, because by the time it becomes the shortest edge, D is already in the interior of a segment. Next, AE cannot be used, even though both A and E are endpoints, because it would make a loop out of ACGDE.  Finally, note that sometimes we may have to reverse a segment.  For example, EF can merge AGCDE and BF, but first we have to reverse BF to FB. \n",
    "\n",
    "\n",
    "<table>\n",
    "<tr><th>Shortest Edge<th>Usage of edge<th>Resulting Segments\n",
    "<tr><td>&mdash;<td>&mdash;<td> A; B; C; D; E; F; G\n",
    "<tr><td>CG<td>Join C to G<td>A; B; <b>CG</b>; D; E; F\n",
    "<tr><td>DE<td>Join D to E<td>A; B; CG; <b>DE</b>; F\n",
    "<tr><td>AC<td>Join A to CG<td>B; <b>AC</b>G; DE; F\n",
    "<tr><td>GD<td>Join ACG to D<td>B; AC<b>GD</b>E; F\n",
    "<tr><td>FD<td>Discard<td>B; ACGDE; F\n",
    "<tr><td>AE<td>Discard<td>B; ACGDE; F\n",
    "<tr><td>BF<td>Join B to F<td><b>BF</b>; ACGDE\n",
    "<tr><td>CF<td>Discard<td>BF; ACGDE\n",
    "<tr><td>EF<td>Join ACGDE to FB<td>ACGD<b>EF</b>B\n",
    "</table>\n",
    "\n",
    "Here is the code:\n"
   ]
  },
  {
   "cell_type": "code",
   "execution_count": null,
   "metadata": {},
   "outputs": [],
   "source": [
    "def greedy_tsp(cities):\n",
    "    \"\"\"Go through edges, shortest first. Use edge to join segments if possible.\"\"\"\n",
    "    endpoints = {c: [c] for c in cities} # A dict of {endpoint: segment}\n",
    "    for (A, B) in shortest_edges_first(cities):\n",
    "        if A in endpoints and B in endpoints and endpoints[A] != endpoints[B]:\n",
    "            new_segment = join_endpoints(endpoints, A, B)\n",
    "            if len(new_segment) == len(cities):\n",
    "                return new_segment\n",
    "            \n",
    "# TO DO: functions: shortest_edges_first, join_endpoints"
   ]
  },
  {
   "cell_type": "markdown",
   "metadata": {},
   "source": [
    "\n",
    "**Note:** The `endpoints` dict is serving two purposes. First, the keys of the dict are all the cities that are endpoints of some segments,\n",
    "making it possible to ask \"`A in endpoints`\" to see if city `A` is an endpoint. Second, the values of the dict are all the segments, making it possible to ask \"`endpoints[A] != endpoints[B]`\" to make sure that the two cities are endpoints of different segments, not of the same segment.\n",
    "\n",
    "The `shortest_edges_first` function is easy: generate all `(A, B)` pairs of cities, and sort by the distance between the cities.  (Note: I use the conditional `if id(A) < id(B)` so that I won't have both `(A, B)` and `(B, A)` in my list of edges, and I won't ever have `(A, A)`.)"
   ]
  },
  {
   "cell_type": "code",
   "execution_count": null,
   "metadata": {},
   "outputs": [],
   "source": [
    "def shortest_edges_first(cities):\n",
    "    \"Return all edges between distinct cities, sorted shortest first.\"\n",
    "    edges = [(A, B) for A in cities for B in cities \n",
    "                    if id(A) < id(B)]\n",
    "    return sorted(edges, key=lambda edge: distance(*edge))"
   ]
  },
  {
   "cell_type": "markdown",
   "metadata": {},
   "source": [
    "For the `join_endpoints` function, I first make sure that A is the last element of one segment and B is the first element of the other, by reversing segments if necessary.  Then I add the B segment on to the end of the A segment. Finally, I update the `endpoints` dict. This is a bit tricky!  My first thought was that A and B are no longer endpoints, because they have been joined together in the interior of the segment.  However, that isn't always true.  If A was the endpoint of a 1-city segment, then when you join it to B, A is still an endpoint.  I could have had complicated logic to handle the case when A, B, or both, or neither were 1-city segments, but I decided on a different tactic: first unconditionally delete A and B from the endpoints dict, no matter what.  Then add the two endpoints of the new segment (which is `Asegment`) to the endpoints dict.  "
   ]
  },
  {
   "cell_type": "code",
   "execution_count": null,
   "metadata": {},
   "outputs": [],
   "source": [
    "def join_endpoints(endpoints, A, B):\n",
    "    \"Join B's segment onto the end of A's and return the segment. Maintain endpoints dict.\"\n",
    "    Asegment, Bsegment = endpoints[A], endpoints[B]\n",
    "    if Asegment[-1] is not A: Asegment.reverse()\n",
    "    if Bsegment[0] is not B: Bsegment.reverse()\n",
    "    Asegment.extend(Bsegment)\n",
    "    del endpoints[A], endpoints[B] # A and B are no longer endpoints\n",
    "    endpoints[Asegment[0]] = endpoints[Asegment[-1]] = Asegment\n",
    "    return Asegment"
   ]
  },
  {
   "cell_type": "markdown",
   "metadata": {},
   "source": [
    "Let's try out the `greedy_tsp` algorithm on the two USA maps:"
   ]
  },
  {
   "cell_type": "code",
   "execution_count": null,
   "metadata": {},
   "outputs": [],
   "source": [
    "plot_tsp(greedy_tsp, USA_map)"
   ]
  },
  {
   "cell_type": "code",
   "execution_count": null,
   "metadata": {},
   "outputs": [],
   "source": [
    "plot_tsp(greedy_tsp, USA_big_map)"
   ]
  },
  {
   "cell_type": "markdown",
   "metadata": {},
   "source": [
    "The greedy algorithm is worse than nearest neighbors, but it is fast (especially on the big map). Let's see if the *alteration* strategy can help:"
   ]
  },
  {
   "cell_type": "code",
   "execution_count": null,
   "metadata": {},
   "outputs": [],
   "source": [
    "def altered_greedy_tsp(cities):\n",
    "    \"Run greedy TSP algorithm, and alter the results by reversing segments.\"\n",
    "    return alter_tour(greedy_tsp(cities))"
   ]
  },
  {
   "cell_type": "code",
   "execution_count": null,
   "metadata": {},
   "outputs": [],
   "source": [
    "plot_tsp(altered_greedy_tsp, USA_map)"
   ]
  },
  {
   "cell_type": "code",
   "execution_count": null,
   "metadata": {},
   "outputs": [],
   "source": [
    "plot_tsp(altered_greedy_tsp, USA_big_map)"
   ]
  },
  {
   "cell_type": "markdown",
   "metadata": {},
   "source": [
    "That's the best result yet on the big map. Let's look at some benchmarks:"
   ]
  },
  {
   "cell_type": "code",
   "execution_count": null,
   "metadata": {},
   "outputs": [],
   "source": [
    "algorithms = [altered_nn_tsp, altered_greedy_tsp, repeated_altered_nn_tsp]\n",
    "\n",
    "benchmarks(algorithms)\n",
    "print('-' * 100)\n",
    "benchmarks(algorithms, Maps(30, 120))"
   ]
  },
  {
   "cell_type": "markdown",
   "metadata": {},
   "source": [
    "So overall, the altered greedy algorithm looks slightly better than the altered nearest neighbor algorithm and runs in about the same time. However, the repeated altered nearest neighbor algorithm does best of all (although it takes much longer).\n",
    "\n",
    "What about a repeated altered greedy algorithm?  That might be a good idea, but there is no obvious way to do it.  We can't just start from a sample of cities, because the greedy algorithm doesn't have a notion of starting city.\n",
    "\n",
    "Visualizing the Greedy Algorithm\n",
    "---\n",
    "\n",
    "I would like to see how the process of joining segments unfolds.  Although I dislike copy-and-paste (because it violates the *[Don't Repeat Yourself](http://en.wikipedia.org/wiki/Don%27t_repeat_yourself)* principle), I'll copy  `greedy_tsp` and make a new version called `visualize_greedy_tsp` which adds one line to plot the segments several times as the algorithm is running:"
   ]
  },
  {
   "cell_type": "code",
   "execution_count": null,
   "metadata": {},
   "outputs": [],
   "source": [
    "def visualize_greedy_tsp(cities, plot_sizes):\n",
    "    \"\"\"Go through edges, shortest first. Use edge to join segments if possible.\n",
    "    Plot segments at specified sizes.\"\"\"\n",
    "    edges = shortest_edges_first(cities) # A list of (A, B) pairs\n",
    "    endpoints = {c: [c] for c in cities} # A dict of {endpoint: segment}\n",
    "    for (A, B) in edges:\n",
    "        if A in endpoints and B in endpoints and endpoints[A] != endpoints[B]:\n",
    "            new_segment = join_endpoints(endpoints, A, B)\n",
    "            plot_segments(endpoints, plot_sizes, distance(A, B)) # <<<< NEW\n",
    "            if len(new_segment) == len(cities):\n",
    "                return new_segment\n",
    "        \n",
    "def plot_segments(endpoints, plot_sizes, dist):\n",
    "    \"If the number of distinct segments is one of plot_sizes, then plot segments.\"\n",
    "    segments = set(map(tuple, endpoints.values()))\n",
    "    if len(segments) in plot_sizes:\n",
    "        for s in segments:\n",
    "            plot_lines(s)\n",
    "        plt.show()\n",
    "        print('{} segments, longest edge = {:.0f}'.format(\n",
    "              len(segments), dist))"
   ]
  },
  {
   "cell_type": "code",
   "execution_count": null,
   "metadata": {},
   "outputs": [],
   "source": [
    "visualize_greedy_tsp(USA_map, (50, 25, 10, 5, 2, 1));"
   ]
  },
  {
   "cell_type": "markdown",
   "metadata": {},
   "source": [
    "# Divide and Conquer Strategy\n",
    "\n",
    "The next general strategy to consider is *divide and conquer*.  Suppose we have an algorithm, like `alltours_tsp`, that is inefficient for large *n* (the `alltours_tsp` algorithm is O(*n!*) for *n* cities).  So we can't apply `alltours_tsp` directly to a large set of cities.  But we can divide the problem into smaller pieces, and then combine those pieces:\n",
    "\n",
    "1. Split the set of cities in half.\n",
    "2. Find a tour for each half.\n",
    "3. Join those two tours into one.\n",
    "\n",
    "The trick is that when *n* is small, then step 2 can be done directly.  But when *n* is large, step 2 is done with a recursive call, breaking the half into two smaller halves.\n",
    "\n",
    "Let's work out by hand an example with a small map of just six cities. Here are the cities:"
   ]
  },
  {
   "cell_type": "code",
   "execution_count": null,
   "metadata": {},
   "outputs": [],
   "source": [
    "cities = Cities(6)\n",
    "\n",
    "plot_labeled_lines(cities)"
   ]
  },
  {
   "cell_type": "markdown",
   "metadata": {},
   "source": [
    "Step 1 is to divide this set in half.  I'll divide it into a left half (blue circles) and a right half (black squares):"
   ]
  },
  {
   "cell_type": "code",
   "execution_count": null,
   "metadata": {},
   "outputs": [],
   "source": [
    "plot_labeled_lines(list(cities), 'bo', [3, 4, 0], 'ks', [1, 2, 5])"
   ]
  },
  {
   "cell_type": "markdown",
   "metadata": {},
   "source": [
    "Step 2 is to find a tour for each half:"
   ]
  },
  {
   "cell_type": "code",
   "execution_count": null,
   "metadata": {},
   "outputs": [],
   "source": [
    "plot_labeled_lines(list(cities), 'bo-', [0, 3, 4, 0], 'ks-', [1, 2, 5, 1])"
   ]
  },
  {
   "cell_type": "markdown",
   "metadata": {},
   "source": [
    "Step 3 is to combine the two halves.  We do that by choosing an edge from each half to delete (the edges marked by red dashes) and replacing those two edges by two edges that connect the halves (the blue dash-dot edges). Note that there are two choices of ways to connect the new dash-dot lines.  Pick the one that yields the shortest tour."
   ]
  },
  {
   "cell_type": "code",
   "execution_count": null,
   "metadata": {},
   "outputs": [],
   "source": [
    "# One way to connect the two segments, giving the tour [1, 3, 4, 0, 2, 5]\n",
    "plot_labeled_lines(list(cities), 'bo-', [0, 3, 4], 'ks-', [1, 2, 5],\n",
    "                   'b-.', [0, 1], [4, 5],\n",
    "                   'r--', [0, 4], [1, 5])"
   ]
  },
  {
   "cell_type": "markdown",
   "metadata": {},
   "source": [
    "Now we have a feel for what we have to do.  Let's define the divide and conquer algorithm, which we will call `dq_tsp`. Like all `tsp` algorithms it gets a set of cities as input and returns a tour. If the size of the set of cities is 3 or less, then just listing the cities in any order produces an optimal tour. If there are more than 3 cities, then split the cities in half (using `split_cities`), find a tour for each half (using `dq_tsp` recursively), and join the two tours together (using `join_tours`): "
   ]
  },
  {
   "cell_type": "code",
   "execution_count": null,
   "metadata": {},
   "outputs": [],
   "source": [
    "def dq_tsp(cities):\n",
    "    \"\"\"Find a tour by divide and conquer: if number of cities is 3 or less,\n",
    "    any tour is optimal.  Otherwise, split the cities in half, solve each\n",
    "    half recursively, then join those two tours together.\"\"\"\n",
    "    if len(cities) <= 3:\n",
    "        return Tour(cities)\n",
    "    else:\n",
    "        Cs1, Cs2 = split_cities(cities)\n",
    "        return join_tours(dq_tsp(Cs1), dq_tsp(Cs2))\n",
    "    \n",
    "# TO DO: functions: split_cities, join_tours"
   ]
  },
  {
   "cell_type": "markdown",
   "metadata": {},
   "source": [
    "Let's verify that `dq_tsp` works for three cities:"
   ]
  },
  {
   "cell_type": "code",
   "execution_count": null,
   "metadata": {},
   "outputs": [],
   "source": [
    "plot_tsp(dq_tsp, Cities(3))"
   ]
  },
  {
   "cell_type": "markdown",
   "metadata": {},
   "source": [
    "If we have more than 3 cities, how do we split them?  My approach is to imagine drawing an axis-aligned rectangle that is just big enough to contain all the cities. If the rectangle  is wider than it is tall, then order all the cities by *x* coordiante and split that ordered list in half.  If the rectangle is taller than it is wide, order and split the cities by *y* coordinate. "
   ]
  },
  {
   "cell_type": "code",
   "execution_count": null,
   "metadata": {},
   "outputs": [],
   "source": [
    "def split_cities(cities):\n",
    "    \"Split cities vertically if map is wider; horizontally if map is taller.\"\n",
    "    width, height = extent([c.x for c in cities]), extent([c.y for c in cities])\n",
    "    key = 'x' if (width > height) else 'y'\n",
    "    cities = sorted(cities, key=lambda c: getattr(c, key))\n",
    "    mid = len(cities) // 2\n",
    "    return frozenset(cities[:mid]), frozenset(cities[mid:])\n",
    "\n",
    "def extent(numbers): return max(numbers) - min(numbers)"
   ]
  },
  {
   "cell_type": "markdown",
   "metadata": {},
   "source": [
    "Let's show that split_cities is working:"
   ]
  },
  {
   "cell_type": "code",
   "execution_count": null,
   "metadata": {},
   "outputs": [],
   "source": [
    "Cs1, Cs2 = split_cities(cities)\n",
    "plot_tour(dq_tsp(Cs1))\n",
    "plot_tour(dq_tsp(Cs2))"
   ]
  },
  {
   "cell_type": "markdown",
   "metadata": {},
   "source": [
    "Now for the tricky part: joining two tours together. First we consider all ways of deleting one edge from each of the two tours.  If we delete a edge from a tour we get a segment.  We are representing segments as lists of cities, the same surface representation as tours.  But there is a difference in their interpretation.  The tour `[0, 2, 5]` is a triangle of three edges, but the segment `[0, 2, 5]` consists of only two edges, from `0` to `2` and from `2` to `5`. The segments that result from deleting an edge from the tour `[0, 2, 5]` are:\n",
    "\n",
    "<pre>\n",
    "[0, 2, 5],    [2, 5, 0],    [5, 0, 2]\n",
    "</pre>\n",
    "\n",
    "You may recognize these as the *rotations* of the segment `[0, 2, 5]`. So any candidate combined tour consists of taking a rotation of the first tour, and appending to it a rotation of the second tour, with one caveat: when we go to append the two segments, there are two ways of doing it: either keep the second segment as is, or reverse the second segment.\n",
    "\n",
    "**Note:** In Python, `sequence[::-1]` means to reverse the sequence."
   ]
  },
  {
   "cell_type": "code",
   "execution_count": null,
   "metadata": {},
   "outputs": [],
   "source": [
    "def join_tours(tour1, tour2):\n",
    "    \"Consider all ways of joining the two tours together, and pick the shortest.\"\n",
    "    segments1, segments2 = rotations(tour1), rotations(tour2)\n",
    "    tours = [s1 + s2\n",
    "             for s1 in segments1\n",
    "             for s  in segments2\n",
    "             for s2 in (s, s[::-1])]\n",
    "    return shortest_tour(tours)\n",
    "\n",
    "def rotations(sequence):\n",
    "    \"All possible rotations of a sequence.\"\n",
    "    # A rotation is some suffix of the sequence followed by the rest of the sequence.\n",
    "    return [sequence[i:] + sequence[:i] for i in range(len(sequence))]"
   ]
  },
  {
   "cell_type": "markdown",
   "metadata": {},
   "source": [
    "Let's see if it works, first on the 6 city example:"
   ]
  },
  {
   "cell_type": "code",
   "execution_count": null,
   "metadata": {},
   "outputs": [],
   "source": [
    "plot_tsp(dq_tsp, Cities(6))"
   ]
  },
  {
   "cell_type": "markdown",
   "metadata": {},
   "source": [
    "That is indeed the optimal tour, achieved by deleting the two dashed red lines and adding the dotted blue lines.\n",
    "\n",
    "Now for the USA map:"
   ]
  },
  {
   "cell_type": "code",
   "execution_count": null,
   "metadata": {},
   "outputs": [],
   "source": [
    "plot_tsp(dq_tsp, USA_map)"
   ]
  },
  {
   "cell_type": "markdown",
   "metadata": {},
   "source": [
    "Not quite as good as `altered_greedy_tsp`. Let's alter it!"
   ]
  },
  {
   "cell_type": "code",
   "execution_count": null,
   "metadata": {},
   "outputs": [],
   "source": [
    "def altered_dq_tsp(cities): return alter_tour(dq_tsp(cities))"
   ]
  },
  {
   "cell_type": "code",
   "execution_count": null,
   "metadata": {},
   "outputs": [],
   "source": [
    "plot_tsp(altered_dq_tsp, USA_map)"
   ]
  },
  {
   "cell_type": "markdown",
   "metadata": {},
   "source": [
    "Let's just remind ourselves how the algorithms behave on the standard test cases:"
   ]
  },
  {
   "cell_type": "code",
   "execution_count": null,
   "metadata": {},
   "outputs": [],
   "source": [
    "algorithms = [nn_tsp, greedy_tsp, dq_tsp, altered_dq_tsp, altered_nn_tsp, altered_greedy_tsp, \n",
    "              repeated_altered_nn_tsp]\n",
    "\n",
    "benchmarks(algorithms)"
   ]
  },
  {
   "cell_type": "markdown",
   "metadata": {},
   "source": [
    "Of the non-altered algorithms (the first three lines), divide and conquer (`dq_tsp`) does best.  But interestingly, divide and conquer is helped less by `alter_tour` than is the greedy algorithm or nearest neighbor algorithm.  Perhaps it is because divide and conquer constructs its tour by putting together pieces that are already good, so `alter_tour` is less able to improve it. ALso, `dq_tsp` has a standard deviation that is much smaller than the other two&mdash;this suggests that `dq_tsp` is not producing really bad tours that can be easily improved by `alter_tour`.  In any event, `altered_dq_tsp` is the worst of the `altered` algorithms, both in average tour length and in run time.  \n",
    "\n",
    "`repeated_altered_nn_tsp` remains the best in tour length, although the worst in run time."
   ]
  },
  {
   "cell_type": "markdown",
   "metadata": {},
   "source": [
    "# Shoulders of Giants: Minimum Spanning Tree Algorithm: `mst_tsp`\n",
    "\n",
    "\n",
    "<a href=\"https://en.wikipedia.org/wiki/Joseph_Kruskal\">\n",
    "<img src=\"http://people.inf.elte.hu/hytruongson/Kruskal/J.Kruskal.jpg\">\n",
    "<center>Joseph Kruskal (Wikipedia)</center></a>\n",
    "\n",
    "\n",
    "I hope you now believe that you could have come up with some ideas for solving the TSP. But even if you can't come up with something all on your own, you can always [Google it](http://bit.ly/XNGt2y), in which case you'll no doubt find a giant of a mathematician, [Joseph Kruskal](http://en.wikipedia.org/wiki/Joseph_Kruskal), who, in 1956, \n",
    "published [a paper](http://www.cmat.edu.uy/~marclan/TAG/Sellanes/Kruskal.pdf) that led to an algorithm that\n",
    "most people would not have thought of on their own\n",
    " (I know I wouldn't have):\n",
    "> **Minimum Spanning Tree Traversal Algorithm:** *Construct a Minimum Spanning Tree, then do a pre-order traversal.  That will give you a tour that is guaranteed to be no more than twice as long as the minimal tour.* \n",
    "\n",
    "What does all this jargon mean? It is part of *graph theory*, the study of vertexes and edges.  Here is a glossary of terms:\n",
    "\n",
    "* A **graph** is a collection of vertexes and edges.\n",
    "* A **vertex** is a point (such as a city).\n",
    "* An **edge** is a link between two vertexes. Edges have lengths.\n",
    "\n",
    "* A **directed graph** is a graph where the edges have a direction.  We say that the edge goes from the **parent** vertex to the **child** vertex.\n",
    "\n",
    "* A **tree** is a directed graph in which there is one distinguished vertex called the **root** that has no parent; every other vertex has exactly one parent. \n",
    "\n",
    "* A **spanning tree** (of a set of vertexes) is a tree that contains all the vertexes.    \n",
    "\n",
    "* A **minimum spanning tree** is a spanning tree with the smallest possible sum of edge lengths.\n",
    "\n",
    "* A **traversal** of a tree is a way of visiting all the vertexes in some order.\n",
    "\n",
    "* A **pre-order traversal** means that you visit the root first, then do a pre-order traversal of each of the children.\n",
    "\n",
    "* A **guarantee** means that, no matter what set of cities is selected, the tour found by the minimum spanning tree traversal algorithm will never be more than twice as long as the shortest possible tour. None of the other algorithms has any guarantee at all (except for `alltours_tsp`, which is guaranteed to find the optimal algorithm, if it has enough time to complete).\n",
    "\n",
    "We will implement a vertex as a Point, and a directed graph as a dict of `{parent: [child, ...]}` pairs. \n",
    "\n",
    "Visualizing Graphs and Trees\n",
    "---\n",
    "\n",
    "I think we will need visualization right away, so before doing anything else I will define `plot_graph`. I will make it plot in red so that we can easily tell a tour (blue) from a graph (red)."
   ]
  },
  {
   "cell_type": "code",
   "execution_count": null,
   "metadata": {},
   "outputs": [],
   "source": [
    "def plot_graph(graph):\n",
    "    \"Given a graph of the form {parent: [child...]}, plot the vertexes and edges.\"\n",
    "    vertexes = {v for parent in graph for v in graph[parent]} | set(graph)\n",
    "    edges = {(parent, child) for parent in graph for child in graph[parent]}\n",
    "    for edge in edges:\n",
    "        plot_lines(edge, 'ro-')\n",
    "    total_length = sum(distance(p, c) for (p, c) in edges)\n",
    "    print('{} node Graph of total length: {:.1f}'.format(len(vertexes), total_length))"
   ]
  },
  {
   "cell_type": "markdown",
   "metadata": {},
   "source": [
    "Let's try it out:"
   ]
  },
  {
   "cell_type": "code",
   "execution_count": null,
   "metadata": {},
   "outputs": [],
   "source": [
    "Ps = [Point(0, 0.1), \n",
    "      Point(-2, -1), Point(0, -1), Point(2, -1), \n",
    "      Point(-2.9, -1.9), Point(-1, -1.9), Point(1, -1.9), Point(2.9, -1.9)]\n",
    "\n",
    "Ptree = {Ps[0]: Ps[1:4], Ps[1]: Ps[4:6], Ps[3]: Ps[6:8]}\n",
    "\n",
    "plot_graph(Ptree)"
   ]
  },
  {
   "cell_type": "markdown",
   "metadata": {},
   "source": [
    "Now our plan is:\n",
    "\n",
    "1. Implement an algorithm to create a minimum spanning tree.\n",
    "2. Implement a tree traversal; that will give us our `mst_tsp` algorithm.\n",
    "3. Understand the guarantee,  \n",
    "\n",
    "Creating a Minimum Spanning Tree (`mst`)\n",
    "---\n",
    "\n",
    "Now let's see how to create a minimum spanning tree (or MST).  Kruskal has a very nice algorithm to find MSTs, but with what we have done so far, it will be a bit easier to implement another Giant's algorithm:\n",
    "\n",
    "> **[Prim's algorithm for creating a MST](http://en.wikipedia.org/wiki/Prim%27s_algorithm):** *List all the edges and sort them, shortest first.  Initialize a tree to be a single root city (we'll arbitrarily shoose the first city). Now repeat the following until the tree contains all the cities: find the shortest edge that links a city (A) that is in the tree to a city (B) that is not yet in the tree, and add B to the list of A's children in the tree.*\n",
    "\n",
    "Here's the code. One tricky bit: In the first line inside the `while` loop, we define `(A, B)` to be an edge in which one of `A` or `B` is in the tree, using the exclusive-or operator, `^`.  Then in the next line, we make sure that `A` is the one that is in the tree and B is not, by swapping if necessary."
   ]
  },
  {
   "cell_type": "code",
   "execution_count": null,
   "metadata": {
    "collapsed": true
   },
   "outputs": [],
   "source": [
    "def mst(vertexes):\n",
    "    \"\"\"Given a set of vertexes, build a minimum spanning tree: a dict of the form {parent: [child...]}, \n",
    "    where parent and children are vertexes, and the root of the tree is first(vertexes).\"\"\"\n",
    "    tree  = {first(vertexes): []} # the first city is the root of the tree.\n",
    "    edges = shortest_edges_first(vertexes)\n",
    "    while len(tree) < len(vertexes):\n",
    "        (A, B) = shortest_usable_edge(edges, tree)\n",
    "        tree[A].append(B)\n",
    "        tree[B] = []\n",
    "    return tree\n",
    "\n",
    "def shortest_usable_edge(edges, tree):\n",
    "    \"Find the ehortest edge (A, B) where A is in tree and B is not.\"\n",
    "    (A, B) = first((A, B) for (A, B) in edges if (A in tree) ^ (B in tree)) # ^ is \"xor\" \n",
    "    return (A, B) if (A in tree) else (B, A)"
   ]
  },
  {
   "cell_type": "markdown",
   "metadata": {},
   "source": [
    "Let's see what a minimum spanning tree looks like:"
   ]
  },
  {
   "cell_type": "code",
   "execution_count": null,
   "metadata": {},
   "outputs": [],
   "source": [
    "plot_graph(mst(USA_map))"
   ]
  },
  {
   "cell_type": "markdown",
   "metadata": {},
   "source": [
    "This algorithm clearly produced a spanning tree.  It looks pretty good, but how can we be sure the algorithm will *always* produce a minimum spanning tree?  \n",
    "\n",
    "1. The output is a **tree** because (1) every city is connected by a path from the root, and (2) every city only gets one parent (we only add a B that is not in tree), so there can be no loops. \n",
    "2. The output is a **spanning tree** because it contains all the cities.\n",
    "3. The output is a **minimum spanning tree** because each city was added with the shortest possible edge.  Suppose this algorithm produces the tree T. For another putative spanning tree to be shorter, it would have to contain at least one city C whose edge from its parent was shorter than the edge in T. But that is not possible, because the algorithm always chooses the shortest possible edge from C's parent to C.\n",
    "\n",
    "\n",
    "\n",
    "**Note:** There are refinements to Prim's algorithm to make it more efficient.  I won't bother with them because they complicate the code, and because `mst` is already fast enough for our purposes.\n",
    "\n",
    "Turning a Minimum Spanning Tree into a Tour (`mst_tsp`)\n",
    "---\n",
    "\n",
    "Given a minimum spanning tree, we can generate a tour by doing a pre-order traversal, which means the tour starts at the root, then visits all the cities in the pre-order traversal of the first child of the root, followed by the pre-order traversals of any other children."
   ]
  },
  {
   "cell_type": "code",
   "execution_count": null,
   "metadata": {},
   "outputs": [],
   "source": [
    "def mst_tsp(cities):\n",
    "    \"Create a minimum spanning tree and walk it in pre-order, omitting duplicates.\"\n",
    "    return preorder_traversal(mst(cities), first(cities))\n",
    "\n",
    "def preorder_traversal(tree, root):\n",
    "    \"Traverse tree in pre-order, starting at root of tree.\"\n",
    "    result = [root]\n",
    "    for child in tree.get(root, ()):\n",
    "        result.extend(preorder_traversal(tree, child))\n",
    "    return result"
   ]
  },
  {
   "cell_type": "markdown",
   "metadata": {},
   "source": [
    "To better understand pre-order traversal, let's go back to the `Ptree` example, and this time label the vertexes:"
   ]
  },
  {
   "cell_type": "code",
   "execution_count": null,
   "metadata": {},
   "outputs": [],
   "source": [
    "P = [Point(0, 0.1), \n",
    "     Point(-2, -1), Point(0, -1), Point(2, -1), \n",
    "     Point(-2.9, -1.9), Point(-1, -1.9), Point(1, -1.9), Point(2.9, -1.9)]\n",
    "\n",
    "Ptree = {P[0]: P[1:4], P[1]: P[4:6], P[3]: P[6:8]}\n",
    "\n",
    "plot_graph(Ptree)\n",
    "plot_labeled_lines(P)"
   ]
  },
  {
   "cell_type": "markdown",
   "metadata": {},
   "source": [
    "A pre-order traversal starting at 0 would go to the first child, 1, then to its children, 4 and 5, then since there are no children of 4 and 5, it would continue with the other children of 0, hitting 2, then 3, and finally the children of 3, namely 6 and 7.  So the following should be true:"
   ]
  },
  {
   "cell_type": "code",
   "execution_count": null,
   "metadata": {},
   "outputs": [],
   "source": [
    "preorder_traversal(Ptree, P[0]) == [P[0], P[1], P[4], P[5], P[2], P[3], P[6], P[7]]"
   ]
  },
  {
   "cell_type": "markdown",
   "metadata": {},
   "source": [
    "And this is what the pre-order traversal looks like as a tour:"
   ]
  },
  {
   "cell_type": "code",
   "execution_count": null,
   "metadata": {},
   "outputs": [],
   "source": [
    "plot_tour([P[0], P[1], P[4], P[5], P[2], P[3], P[6], P[7]])"
   ]
  },
  {
   "cell_type": "markdown",
   "metadata": {},
   "source": [
    "You can think of this as starting at the root (at the top) and going around the outside of the tree counterclockwise, as if you were walking with your left hand always touching an edge, but skipping cities you have already been to.\n",
    "\n",
    "We see that the result is a tour, but not an optimal one.  \n",
    "\n",
    "Let's see what `mst_tsp` can do on the USA map:"
   ]
  },
  {
   "cell_type": "code",
   "execution_count": null,
   "metadata": {},
   "outputs": [],
   "source": [
    "plot_tsp(mst_tsp, USA_map)"
   ]
  },
  {
   "cell_type": "markdown",
   "metadata": {},
   "source": [
    "Not so great.  Can the alteration strategy help?"
   ]
  },
  {
   "cell_type": "code",
   "execution_count": null,
   "metadata": {},
   "outputs": [],
   "source": [
    "def altered_mst_tsp(cities): return alter_tour(mst_tsp(cities))"
   ]
  },
  {
   "cell_type": "code",
   "execution_count": null,
   "metadata": {},
   "outputs": [],
   "source": [
    "plot_tsp(altered_mst_tsp, USA_map)"
   ]
  },
  {
   "cell_type": "markdown",
   "metadata": {},
   "source": [
    "Better. Let's go to the benchmarks:"
   ]
  },
  {
   "cell_type": "code",
   "execution_count": null,
   "metadata": {},
   "outputs": [],
   "source": [
    "benchmarks([mst_tsp, nn_tsp, greedy_tsp, dq_tsp])"
   ]
  },
  {
   "cell_type": "markdown",
   "metadata": {},
   "source": [
    "Not very encouraging: `mst_tsp` is the second slowest and has the longest tours.  I'm sure I could make it faster (at the cost of making the code a bit more complicated), but there is no point if the tours are going to be longer.  \n",
    "\n",
    "What happens when we add the alteration strategy?"
   ]
  },
  {
   "cell_type": "code",
   "execution_count": null,
   "metadata": {},
   "outputs": [],
   "source": [
    "benchmarks([altered_dq_tsp, altered_nn_tsp, altered_mst_tsp, altered_greedy_tsp, repeated_altered_nn_tsp])"
   ]
  },
  {
   "cell_type": "markdown",
   "metadata": {},
   "source": [
    "Now `altered_mst_tsp` is in the middle of the pack, both in tour length and in run time.\n",
    "\n",
    "So why would we want to use the rather complicated minimum spanning tree algorithm, when the greedy algorithm is  simpler to implement, runs faster, and produces shorter tours?\n",
    "\n",
    "Guaranteed Tour Length!\n",
    "---\n",
    "\n",
    "The great thing about the minimum spanning tree algorithm is that it comes with a *guarantee*, which none of the other algorithms offer. You are guaranteed that the tour length it comes up with will be no worse than twice as long as the optimal tour.  (And, with a bit more complication, you can modify it to give a guarantee of 1.5 times longer.)  The guarantee works like this:\n",
    "\n",
    "1. The minimum spanning tree, by definition, connects all the cities with the shortest possible total edge length.\n",
    "2. So if you could follow each edge in the spanning tree just once, and that formed a legal tour, then that would be guaranteed to be\n",
    "a minimal tour.  \n",
    "3. But you can't do that in general; in general there will be places where you skip to the next city without following the spanning tree.  Any such skip, however, is a straight line, and thus will be less than you would take if you went to the next city by following along the spanning tree.\n",
    "4. If you did follow along the spanning tree, you would follow some edges twice, and some edges once.  Hence the total length of the tour would be at most twice the spanning tree, and thus at most twice the minimal tour.\n",
    "\n",
    "A guarantee is great from a theoretical point of view, but in practice the greedy or nearest neighbor algorithms do just better than the minimum spanning tree, on the maps that we actually see. "
   ]
  },
  {
   "cell_type": "markdown",
   "metadata": {},
   "source": [
    "# Shoulders of Giants: Held-Karp Algorithm: `hk_tsp`\n",
    "\n",
    "\n",
    "<a href=\"http://www.computerhistory.org/collections/catalog/102650390\"><img src=\"http://archive.computerhistory.org/resources/still-image/IBM/IBM_People/IBM.3_mathematicians_Held_Shareshian_Karp.ca1964.102650390.lg.jpg\">\n",
    "<center>Held, Shareshian, Karp (Computer History Museum)</center></a>\n",
    "\n",
    "<a href=\"http://xkcd.com/399/\">\n",
    "<img src=\"http://imgs.xkcd.com/comics/travelling_salesman_problem.png\">\n",
    "<center>xkcd 399</center></a>\n",
    "\n",
    "Another algorithm that shows up with a literature search is the [Held-Karp Dynamic Programming Algorithm](http://en.wikipedia.org/wiki/Held%E2%80%93Karp_algorithm), named after giants [Michael Held](http://www.computerhistory.org/collections/catalog/102650390) and [Richard Karp](http://en.wikipedia.org/wiki/Richard_M._Karp). It is an algorithm for finding optimal tours, not approximate ones, so it is not appropriate for large *n*.  But even in its simplest form, without any programming tricks, it can go quite a bit further than `alltours_tsp`.  That is because `alltours_tsp` is O(*n*!), while the Held-Karp algorithm is only O(*n*<sup>2</sup> 2<sup>*n*</sup>).  How did Held and Karp achieve this speedup?  They noticed that `alltours_tsp` wastes a lot of time with permutations that can't possibly be optimal tours.  Consider the following 10-city problem, with a 6-city segment shown:"
   ]
  },
  {
   "cell_type": "code",
   "execution_count": null,
   "metadata": {},
   "outputs": [],
   "source": [
    "plot_labeled_lines(cross, 'r-', [0, 4, 1, 3, 2, 9])"
   ]
  },
  {
   "cell_type": "markdown",
   "metadata": {},
   "source": [
    "The `alltours_tsp` would consider 4! = 24 different tours that start with those 6 cities. But that seems wasteful: there is no way that this segment could be part of an optimal tour, so why waste time on *any* continuation of it?  The proof that this segment can never be part of an optimal tour comes down to two things.  First, we demonstrate another tour that also starts in city 0 and ends in city 9, and along the way goes through cities 1 through 4, and is shorter:"
   ]
  },
  {
   "cell_type": "code",
   "execution_count": null,
   "metadata": {},
   "outputs": [],
   "source": [
    "plot_labeled_lines(cross, [0, 1, 2, 3, 4, 9])"
   ]
  },
  {
   "cell_type": "markdown",
   "metadata": {},
   "source": [
    "Second, we need this key property:\n",
    "\n",
    ">*Given a start city A, an end city C, and a set of middle cities Bs, then out of all the possible segments that start in A, end in C, and go through all and only the cities in Bs, only the shortest of those segments could ever be part of an optimal tour. \n",
    "\n",
    "Of course, we don't know that the optimal tour goes through exactly those Bs cities before hitting C.  But if it does, then we need only consider the permutation of Bs that leads to the shortest segment.  So we can throw out the red zig-zag segment above, and keep the nice smooth blue segment.\n",
    "\n",
    "So far we have only been talking about segments.  We know that the TSP is defined for tours, not segments. So even if we find the shortest possible segment, it might not be the shortest possible tour.  But here's something we do know: a tour has to end somewhere.  So just find the shortest segment from the start city, `A`, to every possible end city, `C`.  That will give you *n*-2 segments. Out of those, don't choose the shortest *segment*, but rather choose the shortest *tour*.\n",
    "\n",
    "That gives us our algorithm:"
   ]
  },
  {
   "cell_type": "code",
   "execution_count": null,
   "metadata": {},
   "outputs": [],
   "source": [
    "def hk_tsp(cities):\n",
    "    \"\"\"The H eld-Karpshortest tour of this set of cities.\n",
    "    For each end city C, find the shortest segment from A (the start) to C.\n",
    "    Out of all these shortest segments, pick the one that is the shortest tour.\"\"\"\n",
    "    A = first(cities)\n",
    "    return shortest_tour(shortest_segment(A, cities - {A, C}, C)\n",
    "                         for C in cities if C is not A)\n",
    "\n",
    "# TO DO: function: shortest_segment(A, Bs, C)"
   ]
  },
  {
   "cell_type": "markdown",
   "metadata": {},
   "source": [
    "Now for `shortest_segment(A, Bs, C)`.  It is defined to produce the shortest segment that starts in city `A`, ends in `C`, and visits some permutation of `Bs` cities in the middle.  If there are no `Bs` cities, then of course the shortest segment is to go directly from `A` to `C`.  If there are `Bs` cities, then one of them has to be the last `B` city visited (just before visiting `C`). So for each `B`, find the shortest segment that first goes from `A`, through all the other `Bs` cities, then to `B`, and finally to `C`.  Out of all these candidate segments, return the one with the minimum segment length.\n",
    "\n",
    "**Note:** the decorator `@functools.lru_cache` makes this a **dynamic programming** algorithm, which is a fancy name meaning that we cache the results of sub-computations because we will re-use them multiple times."
   ]
  },
  {
   "cell_type": "code",
   "execution_count": null,
   "metadata": {},
   "outputs": [],
   "source": [
    "@functools.lru_cache(None)\n",
    "def shortest_segment(A, Bs, C):\n",
    "    \"The shortest segment starting at A, going through all Bs, and ending at C.\"\n",
    "    if not Bs:\n",
    "        return [A, C]\n",
    "    else:\n",
    "        segments = [shortest_segment(A, Bs - {B}, B) + [C] \n",
    "                    for B in Bs]\n",
    "        return min(segments, key=segment_length)\n",
    "            \n",
    "def segment_length(segment):\n",
    "    \"The total of distances between each pair of consecutive cities in the segment.\"\n",
    "    # Same as tour_length, but without distance(tour[0], tour[-1])\n",
    "    return sum(distance(segment[i], segment[i-1]) \n",
    "               for i in range(1, len(segment)))"
   ]
  },
  {
   "cell_type": "markdown",
   "metadata": {},
   "source": [
    "That's all there is to it.  Let's compare `alltours_tsp` with `hk_tsp` on 10 city tours:"
   ]
  },
  {
   "cell_type": "code",
   "execution_count": null,
   "metadata": {},
   "outputs": [],
   "source": [
    "plot_tsp(alltours_tsp, Cities(10))"
   ]
  },
  {
   "cell_type": "code",
   "execution_count": null,
   "metadata": {},
   "outputs": [],
   "source": [
    "plot_tsp(hk_tsp, Cities(10))"
   ]
  },
  {
   "cell_type": "markdown",
   "metadata": {},
   "source": [
    "We see that `hk_tsp` returns the optimal tour, and it is a lot faster.  We can take `hk_tsp` into uncharted territory well beyond the reach of  `alltours_tsp`:"
   ]
  },
  {
   "cell_type": "code",
   "execution_count": null,
   "metadata": {},
   "outputs": [],
   "source": [
    "plot_tsp(hk_tsp, Cities(14))"
   ]
  },
  {
   "cell_type": "code",
   "execution_count": null,
   "metadata": {},
   "outputs": [],
   "source": [
    "plot_tsp(hk_tsp, Cities(16))"
   ]
  },
  {
   "cell_type": "markdown",
   "metadata": {},
   "source": [
    "Not bad! In 11 seconds, we did what `alltours_tsp` would have taken an estimated 200 days to complete! Let's repeat the table of expected times, comparing the All Tours algorithm with the Held-Karp algorithm:\n",
    "\n",
    "<table>\n",
    "<tr><th>n <th>`alltours_tsp(Cities(n))`<th>`hk_tsp(Cities(n))`\n",
    "<tr><td>  <td>expected time &approx; O(n!)<td>expected time &approx; O(n<sup>2</sup> 2<sup>n</sup>)\n",
    "<tr><td>10<td> 10! tours = 2 secs                <td>0.1 secs \n",
    "<tr><td>11<td>2 secs &times; 11! / 10! &approx; 22 secs  <td>0.2 secs\n",
    "<tr><td>12<td>2 secs &times; 12! / 10! &approx; 4 mins   <td>0.4 secs\n",
    "<tr><td>14<td>2 secs &times; 14! / 10! &approx; 13 hours <td>3 secs\n",
    "<tr><td>16<td>2 secs &times; 16! / 10! &approx; 200 days <td> 16<sup>2</sup> 2<sup>16</sup> tours = 11 secs\n",
    "<tr><td>18<td>2 secs &times; 18! / 10! &approx; 112 years\n",
    "<td>11 secs &times; (18/16)<sup>2</sup> 2<sup>(18-16)</sup> &approx; 1 min\n",
    "<tr><td>25<td>2 secs &times; 25! / 10! &approx; 270 billion years\n",
    "<td> 11 secs &times; (25/16)<sup>2</sup> 2<sup>(25-16)</sup>  &approx; 4 hours\n",
    "<tr><td>50<td>2 secs &times; 50! / 10! &approx; 5 &times; 10<sup>50</sup> years</a><td>11 secs &times;  (50/16)<sup>2</sup> 2<sup>(50-16)</sup> &approx; 58,000 years\n",
    "</table>\n",
    "\n",
    "So if we had some patience, we could find the optimal tour for a 25 city map, but we still can't handle the 50-city landmarks map.\n",
    "(There are refinements to Held-Karp that can handle 50-city maps, and could do it even with 1960s-era computing power.)\n",
    "\n",
    "We're starting to run out of tricks, but we have one more general strategy to consider."
   ]
  },
  {
   "cell_type": "markdown",
   "metadata": {},
   "source": [
    "# Ensembles of Other Algorithms: `ensemble_tsp`"
   ]
  },
  {
   "cell_type": "markdown",
   "metadata": {},
   "source": [
    "When we have several optimization algorithms and we're not sure which is best, we can always try them all and take the best result.  We will define `ensemble_tsp`, to combine the algorithms we have previously developed. First, if the set of input cities is small enough, it solves the problem optimally with `hk_tsp`.  If the set is too large, it tries a selection of algorithms, and chooses the best resulting tour. The result is guaranteed to be as good or better than any of the component algorithms; but the run time is guaranteed to be longer than any of the component algorithms."
   ]
  },
  {
   "cell_type": "code",
   "execution_count": null,
   "metadata": {},
   "outputs": [],
   "source": [
    "ensemble = [altered_dq_tsp, altered_greedy_tsp, altered_mst_tsp, repeated_altered_nn_tsp]\n",
    "\n",
    "def ensemble_tsp(cities, threshold=16, algorithms=ensemble): \n",
    "    \"Apply all algorithms to cities and take the shortest resulting tour.\"\n",
    "    if len(cities) <= threshold:\n",
    "        return hk_tsp(cities)\n",
    "    else:\n",
    "        return shortest_tour(tsp(cities) for tsp in algorithms)"
   ]
  },
  {
   "cell_type": "markdown",
   "metadata": {},
   "source": [
    "Let's go to the benchmarks:"
   ]
  },
  {
   "cell_type": "code",
   "execution_count": null,
   "metadata": {},
   "outputs": [],
   "source": [
    "benchmarks(ensemble + [ensemble_tsp])"
   ]
  },
  {
   "cell_type": "code",
   "execution_count": null,
   "metadata": {},
   "outputs": [],
   "source": [
    "benchmarks(ensemble + [ensemble_tsp], Maps(30, 120))"
   ]
  },
  {
   "cell_type": "code",
   "execution_count": null,
   "metadata": {},
   "outputs": [],
   "source": [
    "benchmarks(ensemble + [ensemble_tsp], Maps(10, 250))"
   ]
  },
  {
   "cell_type": "markdown",
   "metadata": {},
   "source": [
    "So the `ensemble_tsp` returns tours that are shortest, but the run time is slowest, as expected. It improves on `repeated_altered_nn_tsp` by less than 1%."
   ]
  },
  {
   "cell_type": "markdown",
   "metadata": {},
   "source": [
    "# Further Explorations\n",
    "\n",
    "\n",
    "That's all I'm going to write for now.  But there are still plenty of open questions for you to explore:\n",
    "\n",
    "* **Branch and Cut**: this is a technique to cut off a search early, when a partial solution is obviously not optimal.  We saw how Held-Karp cuts off some permutations of cities when another permutation is better.  A refinement on that is to keep track of, say, the best total length of the segment going through all the Bs cities.  Then, any time you have a partial segment through some of the Bs cities that exceeds the best total, we can stop right there, before even finishing all the Bs.  With this technique, you can find optimal tours for around 50 cities.\n",
    "* **Linear programming**: Lookup the topic \"linear programming\" and see how it applies to TSP.\n",
    "* **Heuristic Algorithms**: There are many approaches for using heurisitic estimates to find good (but not optimal) tours.  For example, *ant colony optimization algorithms* make random choices of which edge to follow, and then the edges that occur in the best tours get reinforced with some virtual pheromones, and other ants tend to follow those pheromones. *Simulated annealing* takes its inspiration from metallurgy.\n",
    "* The **[Lin-Kernighan heuristic](http://akira.ruc.dk/~keld/research/LKH/LKH-1.3/DOC/LKH_REPORT.pdf)**  is one of the best.\n",
    "* The **[Christofides algorithm](https://en.wikipedia.org/wiki/Christofides_algorithm)** gives a guarantee of 3/2 the optimal tour length (improving on the minimum-spanning-tree guarantee).\n",
    "* `altered` as a function: we defined a lot of one-line functions that just called another algorithm, and then calls `alter_tour` on the result.  Can you write a function, `altered(func)`, which takes a TSP algorithm as argument, and returns a TSP algorithm that does the original algorithm and then calls `alter_tour`?\n",
    "* Why does `mst` produce an optimal result, while `greedy_tsp` does not, even though the two algorithms have similar structure in the way they iterate over `shortest_edges_first`?\n",
    "* The code in this notebook was designed for clarity, not efficiency.  Can you make the code faster?\n",
    "* [William Cook](http://www.math.uwaterloo.ca/tsp/) maintains a great page on the TSP.\n",
    "* William Cook also has a [draft chapter](http://www.math.uwaterloo.ca/~bico/papers/comp_chapter1.pdf) on Discrete Optimization featuring TSP. His algorithms are in C, and he chooses a different set of algorithms to explore. I find his explanation very beautiful and concise.\n",
    "* If you are heavily into math, there's a [taxonomy](http://cstheory.stackexchange.com/questions/9241/approximation-algorithms-for-metric-tsp) of solutions.\n",
    "* What else are you interested in?"
   ]
  }
 ],
 "metadata": {
  "kernelspec": {
   "display_name": "Python 3",
   "language": "python",
   "name": "python3"
  },
  "language_info": {
   "codemirror_mode": {
    "name": "ipython",
    "version": 3
   },
   "file_extension": ".py",
   "mimetype": "text/x-python",
   "name": "python",
   "nbconvert_exporter": "python",
   "pygments_lexer": "ipython3",
   "version": "3.6.1"
  }
 },
 "nbformat": 4,
 "nbformat_minor": 1
}
