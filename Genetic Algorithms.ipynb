{
 "cells": [
  {
   "cell_type": "markdown",
   "metadata": {},
   "source": [
    "# Goal: Crack Password\n",
    "We are going to try and determine a hidden password."
   ]
  },
  {
   "cell_type": "markdown",
   "metadata": {},
   "source": [
    "# Choosing a fitness Function\n",
    "The evaluation function is the first step to create a genetic algorithm. It’s the function that estimates the success of our specimen. The simplest solution can be shown as:\n",
    "\n",
    "```\n",
    "fitness score = (number of char correct) / (total number of char)\n",
    "```\n"
   ]
  },
  {
   "cell_type": "code",
   "execution_count": 1,
   "metadata": {
    "collapsed": true
   },
   "outputs": [],
   "source": [
    "def fitness(password, test_word): \n",
    "  if (len(test_word) != len(password)):\n",
    "    print('Not compatible')\n",
    "    return\n",
    "  else: \n",
    "    score = sum([1 for i, j in zip(password, test_word) if i == j])\n",
    "    return score * 100 / len(password)"
   ]
  },
  {
   "cell_type": "code",
   "execution_count": 2,
   "metadata": {
    "collapsed": true
   },
   "outputs": [],
   "source": [
    "test_pass = 'banana' \n",
    "test_word = 'lawinl'"
   ]
  },
  {
   "cell_type": "code",
   "execution_count": 3,
   "metadata": {},
   "outputs": [
    {
     "data": {
      "text/plain": [
       "33.333333333333336"
      ]
     },
     "execution_count": 3,
     "metadata": {},
     "output_type": "execute_result"
    }
   ],
   "source": [
    "fitness(test_pass, test_word)"
   ]
  },
  {
   "cell_type": "markdown",
   "metadata": {},
   "source": [
    "# Creating Individuals\n",
    "So now we know how to evaluate our individuals; but how do we define them? This part is really tricky: the goal is to know what are the unalterable characteristics and what is variable.\n",
    "\n",
    "The comparison with genetics is here really helpful. Indeed, the DNA is composed of genes, and each of those genes comes through different alleles (different versions of this gene). Genetic algorithms retain this concept of population’s DNA.\n",
    "\n",
    "In our case, our individuals are going to be words (obviously of equal length with the password). Each letter is a gene and the value of the letter is the allele. In the word “banana”: ‘b’ is the allele of the first letter.\n",
    "\n",
    "What is the point of this creation?\n",
    "\n",
    "We know that each of our individuals is keeping the good shape (a word with the correct size)\n",
    "Our population can cover every possibility (every word possible with this size).\n",
    "Out genetic algorithm can then explore all possible combinations.\n",
    "\n",
    "# Creating our first population\n",
    "Now, we know what are the characteristics of our individuals and how we can evaluate their performance. We can now start the “evolution” step of our genetic algorithm.\n",
    "\n",
    "The main idea to keep in mind when we create the first population is that we must not point the population towards a solution that seems good. We must make the population as wide as possible and make it cover as many possibilities as possible. The perfect first population of a genetic algorithm should cover every existing allele.\n",
    "\n",
    "So in our case, we are just going to create words only composed of random letters."
   ]
  },
  {
   "cell_type": "code",
   "execution_count": 4,
   "metadata": {
    "collapsed": true
   },
   "outputs": [],
   "source": [
    "import random \n",
    "\n",
    "def generateAWord(length):\n",
    "  result = \"\"\n",
    "  for i in range(length):\n",
    "    letter = chr(97 + int(26 * random.random()))\n",
    "    result += letter\n",
    "  return result  \n",
    "\n",
    "def generateFirstPopulation(size, password):\n",
    "  population = []\n",
    "  for i in range(size):\n",
    "    population.append(generateAWord(len(password)))\n",
    "  return population"
   ]
  },
  {
   "cell_type": "code",
   "execution_count": 5,
   "metadata": {},
   "outputs": [
    {
     "data": {
      "text/plain": [
       "'ggtbesoqce'"
      ]
     },
     "execution_count": 5,
     "metadata": {},
     "output_type": "execute_result"
    }
   ],
   "source": [
    "generateAWord(10)"
   ]
  },
  {
   "cell_type": "code",
   "execution_count": 6,
   "metadata": {},
   "outputs": [
    {
     "data": {
      "text/plain": [
       "['tchlds',\n",
       " 'svpeni',\n",
       " 'zkkivj',\n",
       " 'xxpkgz',\n",
       " 'rjgojt',\n",
       " 'bcuvdf',\n",
       " 'kmvcwp',\n",
       " 'csbzck',\n",
       " 'jedips',\n",
       " 'gddkeo']"
      ]
     },
     "execution_count": 6,
     "metadata": {},
     "output_type": "execute_result"
    }
   ],
   "source": [
    "generateFirstPopulation(10, 'banana')"
   ]
  },
  {
   "cell_type": "markdown",
   "metadata": {},
   "source": [
    "# From one generation to the next\n",
    "Given a generation, in order to create the next one, we have 2 things to do. \n",
    "1. First we select a specific part of our current generation. \n",
    "2. Then the genetic algorithm combines those breeders in order to create the next batch.\n",
    "\n",
    "## Breeders selection\n",
    "They are lots of way to do this but you must keep in mind two ideas: the goals are to select the best solutions of the previous generation and not to completely put aside the others. The hazard is: if you select only the good solutions at the beginning of the genetic algorithm you are going to converge really quickly towards a local minimum and not towards the best solution possible.\n",
    "\n",
    "My solution to do that is to select on the one hand the _N_ better specimen (in our code, _N_ = best_sample) and on the other hand to select _M_ random individuals without distinction of fitness (_M_ = lucky_few)."
   ]
  },
  {
   "cell_type": "code",
   "execution_count": 7,
   "metadata": {
    "collapsed": true
   },
   "outputs": [],
   "source": [
    "import operator \n",
    "\n",
    "def computeRankedPopulation(population, password):\n",
    "  populationRanked = {}\n",
    "  for individual in population:\n",
    "    populationRanked[individual] = fitness(password, individual)\n",
    "  return sorted(populationRanked.items(), key=operator.itemgetter(1), reverse=True)\n",
    "\n",
    "def selectFromPopulation(population, best_sample, lucky_few):\n",
    "  nextGeneration = []\n",
    "  for i in range(best_sample):\n",
    "    nextGeneration.append(population[i][0])\n",
    "  for i in range(lucky_few):\n",
    "    nextGeneration.append(random.choice(population)[0])\n",
    "  return random.shuffle(nextGeneration)"
   ]
  },
  {
   "cell_type": "code",
   "execution_count": null,
   "metadata": {
    "collapsed": true
   },
   "outputs": [],
   "source": []
  }
 ],
 "metadata": {
  "kernelspec": {
   "display_name": "Python 3",
   "language": "python3",
   "name": "python3"
  },
  "language_info": {
   "codemirror_mode": {
    "name": "ipython",
    "version": 3
   },
   "file_extension": ".py",
   "mimetype": "text/x-python",
   "name": "python",
   "nbconvert_exporter": "python",
   "pygments_lexer": "ipython3",
   "version": "3.6.5"
  }
 },
 "nbformat": 4,
 "nbformat_minor": 2
}
