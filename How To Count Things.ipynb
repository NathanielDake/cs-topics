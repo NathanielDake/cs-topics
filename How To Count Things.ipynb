{
 "cells": [
  {
   "cell_type": "code",
   "execution_count": 1,
   "metadata": {
    "collapsed": true
   },
   "outputs": [],
   "source": [
    "import re\n",
    "from itertools import product, chain, permutations\n",
    "from collections import defaultdict\n",
    "from functools import lru_cache as cache\n",
    "from math import factorial"
   ]
  },
  {
   "cell_type": "markdown",
   "metadata": {},
   "source": [
    "# How to Count Things\n",
    "This notebook contains problems designed to show how to count things."
   ]
  },
  {
   "cell_type": "markdown",
   "metadata": {},
   "source": [
    "# (1) Student Records: Late, Absent, Present\n",
    "Consider this problem:\n",
    "\n",
    "> Students at a school must meet with the guidance counselor if they have two total absences, or three consecutive late days. Each student's attendance record consists of a string of 'A' for absent, 'L' for late, or 'P' for present. For example: \"LAPLPA\" requires a meeting (because there are two absences), and \"LAPLPL\" is OK (there are three late days, but they are not consecutive). \n",
    "\n",
    "> (1) Write a function that takes such a string as input and returns True if the student's record is OK.\n",
    "\n",
    "> (2) Write a function to calculate the number of attendance records of length N that are OK.\n",
    "\n",
    "For part (1), the simplest approach is to use `re.search`:"
   ]
  },
  {
   "cell_type": "code",
   "execution_count": 5,
   "metadata": {
    "collapsed": true
   },
   "outputs": [],
   "source": [
    "def ok(record: str) -> bool: return not re.search(r'LLL|A.*A', record)"
   ]
  },
  {
   "cell_type": "code",
   "execution_count": 26,
   "metadata": {},
   "outputs": [
    {
     "data": {
      "text/plain": [
       "'pass'"
      ]
     },
     "execution_count": 26,
     "metadata": {},
     "output_type": "execute_result"
    }
   ],
   "source": [
    "def test_ok():\n",
    "    assert     ok(\"LAPLLP\")\n",
    "    assert not ok(\"LAPLLL\")   # 3 Ls in a row\n",
    "    assert not ok(\"LAPLLA\")   # 2 As overall\n",
    "    assert     ok(\"APLLPLLP\")\n",
    "    assert not ok(\"APLLPLLL\") # 3 Ls in a row\n",
    "    assert not ok(\"APLLPLLA\") # 2 As overall\n",
    "    return 'pass'\n",
    "    \n",
    "test_ok()  "
   ]
  },
  {
   "cell_type": "markdown",
   "metadata": {},
   "source": [
    "For part (2), we can start with a simple (but rather slow) solution called `total_ok_slow` that enumerates `all_strings` (using `itertools.product`) and counts how many are `ok`. We use the `quantify` recipe (from `itertools`) to count them:"
   ]
  },
  {
   "cell_type": "code",
   "execution_count": 32,
   "metadata": {
    "collapsed": true
   },
   "outputs": [],
   "source": [
    "def total_ok_slow(N: int) -> int:\n",
    "  \"How many strings over 'LAP' of length N are ok?\"\n",
    "  return quantify(all_strings('LAP', N), ok)\n",
    "\n",
    "def all_strings(alphabet, N):\n",
    "  \"All length-N strings over the given alphabet\"\n",
    "  return map(cat, product(alphabet, repeat=N))\n",
    "\n",
    "def quantify(iterable, pred=bool) -> int:\n",
    "  \"Count how many times the predicate is true of items in iterable\"\n",
    "  return sum(map(pred, iterable))\n",
    "\n",
    "cat = ''.join"
   ]
  },
  {
   "cell_type": "code",
   "execution_count": 38,
   "metadata": {},
   "outputs": [
    {
     "data": {
      "text/plain": [
       "{0: 1,\n",
       " 1: 3,\n",
       " 2: 8,\n",
       " 3: 19,\n",
       " 4: 43,\n",
       " 5: 94,\n",
       " 6: 200,\n",
       " 7: 418,\n",
       " 8: 861,\n",
       " 9: 1753,\n",
       " 10: 3536}"
      ]
     },
     "execution_count": 38,
     "metadata": {},
     "output_type": "execute_result"
    }
   ],
   "source": [
    "{N: total_ok_slow(N) for N in range(11)}"
   ]
  },
  {
   "cell_type": "markdown",
   "metadata": {
    "collapsed": true
   },
   "source": [
    "Next steps, look up `product`, `quantify` recipe"
   ]
  },
  {
   "cell_type": "code",
   "execution_count": 44,
   "metadata": {},
   "outputs": [
    {
     "data": {
      "text/plain": [
       "[('A', 'C', 'A', 'C'),\n",
       " ('A', 'C', 'A', 'D'),\n",
       " ('A', 'C', 'B', 'C'),\n",
       " ('A', 'C', 'B', 'D'),\n",
       " ('A', 'D', 'A', 'C'),\n",
       " ('A', 'D', 'A', 'D'),\n",
       " ('A', 'D', 'B', 'C'),\n",
       " ('A', 'D', 'B', 'D'),\n",
       " ('B', 'C', 'A', 'C'),\n",
       " ('B', 'C', 'A', 'D'),\n",
       " ('B', 'C', 'B', 'C'),\n",
       " ('B', 'C', 'B', 'D'),\n",
       " ('B', 'D', 'A', 'C'),\n",
       " ('B', 'D', 'A', 'D'),\n",
       " ('B', 'D', 'B', 'C'),\n",
       " ('B', 'D', 'B', 'D')]"
      ]
     },
     "execution_count": 44,
     "metadata": {},
     "output_type": "execute_result"
    }
   ],
   "source": [
    "list(product('AB', 'CD', repeat=2))"
   ]
  },
  {
   "cell_type": "code",
   "execution_count": null,
   "metadata": {
    "collapsed": true
   },
   "outputs": [],
   "source": []
  }
 ],
 "metadata": {
  "kernelspec": {
   "display_name": "Python 3",
   "language": "python3",
   "name": "python3"
  },
  "language_info": {
   "codemirror_mode": {
    "name": "ipython",
    "version": 3
   },
   "file_extension": ".py",
   "mimetype": "text/x-python",
   "name": "python",
   "nbconvert_exporter": "python",
   "pygments_lexer": "ipython3",
   "version": "3.6.5"
  }
 },
 "nbformat": 4,
 "nbformat_minor": 2
}
