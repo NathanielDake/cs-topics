{
 "cells": [
  {
   "cell_type": "markdown",
   "metadata": {},
   "source": [
    "# Genetic Algorithms to Solve the Traveling Salesperson Problem\n",
    "---"
   ]
  },
  {
   "cell_type": "markdown",
   "metadata": {},
   "source": [
    "## Traveling Salesperson Problem (TSP):\n",
    "> _Given a set of cities, and the distances between each pair of cities, find a tour of the cities with the minimum total distance. A tour means you start at one city, visit every other city exactly once, and then return to the starting city._\n",
    "\n",
    "This notebook will build on the other notebook involving the traveling salesman in this directory, but will introduce evolutionary algorithms as a means of solving it. Before we dig into the new approach, we can review the problem.\n",
    "\n",
    "* This is a well-known intractable problem, meaning that there are no efficient solutions that work for a large number of cities.\n",
    "* We can create an inefficient algorithm that works fine for a small number of cites (about a dozen).\n",
    "* We can also find a nearly-shortest tour over thousands of cities.\n",
    "* In reality, the fact there is no efficient algorithm is liberating:\n",
    "> This means that we can use a very simple, inefficient algorithm and not feel too bad about it.\n",
    "\n",
    "Let's recall the vocabulary of this problem:\n",
    "* **City**: For the purpose of this exercise, a city is \"atomic\" in the sense that we don't have to know anything about the components or attributes of a city, just how far it is from other cities.\n",
    "* **Cities**: We will need to represent a set of cities; Python's `set` datatype might be appropriate for that.\n",
    "* **Distance**: We will need the distance between two cities. If A and B are cities. This could be done with a function, `distance(A, B)`, or with a dict, `distance[A][B]` or `distance[A, B]`, or with an array if A and B are integer indexes. The resulting distance will be a real number (which Python calls a `float`).\n",
    "* **Tour**: A tour is an ordered list of cities; Python's `list` or `tuple` datatypes would work.\n",
    "* **Total distance**: The sum of the distances of adjacent cities in the tour. We will probably have a function, `total_distance(tour)`.\n",
    "\n",
    "Let's begin by defining our imports."
   ]
  },
  {
   "cell_type": "code",
   "execution_count": 31,
   "metadata": {
    "collapsed": true
   },
   "outputs": [],
   "source": [
    "import matplotlib.pyplot as plt\n",
    "import matplotlib.colors as colors\n",
    "import matplotlib.cm as cmx\n",
    "\n",
    "import random, operator, time, itertools, math\n",
    "import numpy\n",
    "\n",
    "%matplotlib inline\n",
    "%config InlineBackend.figure_format = 'retina'\n",
    "plt.rc('text', usetex=True)\n",
    "plt.rc('font', family='serif')\n",
    "plt.rcParams['text.latex.preamble'] ='\\\\usepackage{libertine}\\n\\\\usepackage[utf8]{inputenc}'\n",
    "\n",
    "import seaborn\n",
    "seaborn.set(style='whitegrid')\n",
    "seaborn.set_context('notebook')"
   ]
  },
  {
   "cell_type": "markdown",
   "metadata": {},
   "source": [
    "---\n",
    "\n",
    "### First Algorithm: Find the tour with the shortest total distance from all possible tours\n",
    "\n",
    "> _Generate all the possible tours of the cities, and choose the shortest one (the tour with the minimum total distance)._\n",
    "\n",
    "We can implement this as the Python function `exact_TSP` (\"exact\" means that it finds the shortest tour, not just an approximation to the shortest tour). Here's the design philosophy we will use:\n",
    "\n",
    "> _Write Python code that closely mirrors the English description of the algorithm. This will probably require some auxilliary functions and data structures; just assume we will be able to define them as well, using the same design philosophy._"
   ]
  },
  {
   "cell_type": "code",
   "execution_count": 32,
   "metadata": {
    "collapsed": true
   },
   "outputs": [],
   "source": [
    "def exact_TSP(cities):\n",
    "  \"Generate all possible tours of the cities and choose the shortest one.\"\n",
    "  return shortest(alltours(cities))\n",
    "\n",
    "def shortest(tours):\n",
    "  \"Return the tour with the minimum total distance.\"\n",
    "  return min(tours, key=total_distance)"
   ]
  },
  {
   "cell_type": "markdown",
   "metadata": {},
   "source": [
    "_Note 1_: We have not yet defined the function `total_distance`, `nor alltours`.\n",
    "\n",
    "_Note 2_: In Python `min(collection,key=function)` means to find the element x that is a member of collection such that function(x) is minimized. So `shortest` finds the tour whose `total_distance` in the minimal among the tours. So our Python code implements (and closely mimics) our English description of the algorithm. Now we need to define what a tour is, and how to measure total distance.\n",
    "\n",
    "### Representing Tours\n",
    "* A tour starts in one city, and then visits each of the other cities in order, before finally returning to the start.\n",
    "* A natural representation of the set of available cities is a Python `set`, and a natural representation of a tour is a sequence that is a _permutation_ of the set.\n",
    "* The tuple `(1, 2, 3)`, for example, represents a tour that starts in city 1, moves to 2, then 3, and then returns to 1 to finish the tour."
   ]
  },
  {
   "cell_type": "code",
   "execution_count": 33,
   "metadata": {},
   "outputs": [
    {
     "data": {
      "text/plain": [
       "[(1, 2, 3), (1, 3, 2), (2, 1, 3), (2, 3, 1), (3, 1, 2), (3, 2, 1)]"
      ]
     },
     "execution_count": 33,
     "metadata": {},
     "output_type": "execute_result"
    }
   ],
   "source": [
    "alltours = itertools.permutations # The perm func is already defined in itertools module\n",
    "cities = {1, 2, 3}\n",
    "list(alltours(cities))"
   ]
  },
  {
   "cell_type": "markdown",
   "metadata": {},
   "source": [
    "### Representing Cities and Distance\n",
    "Now for the notion of _distance_. We define `total_distance(tour)` as the sum of the distances between consecutive cities in the tour; that part is shown below and is easy (with one Python-specific trick: when `i` is 0, then `distance(tour[0], tour[-1])` gives us the wrap-around distance between the first and last cities, because `tour[-1]` is the last element of `tour`)."
   ]
  },
  {
   "cell_type": "code",
   "execution_count": 34,
   "metadata": {
    "collapsed": true
   },
   "outputs": [],
   "source": [
    "def total_distance(tour):\n",
    "  \"The total distance between each pair of consecutive cities in the tour.\"\n",
    "  return sum(distance(tour[i], tour[i-1])\n",
    "            for i in range(len(tour)))"
   ]
  },
  {
   "cell_type": "markdown",
   "metadata": {},
   "source": [
    "### Distance between cities\n",
    "Before we can define `distance(A, B)`, the distance between two cities, we have to make a choice. In the fully general version of the TSP problem, the distance between two cities could be anything: it could be the amount of time it takes to travel between cities, the number of dollars it costs, or anything else.\n",
    "\n",
    "How will we represent a two-dimensional point? Here are some choices, with their pros and cons:\n",
    "\n",
    "* **Tuple**: A point (or city) is a two-tuple of (x, y) coordinates, for example, `(300, 0)`.\n",
    "    * Pro: Very simple, easy to break a point down into components. Reasonably efficient.\n",
    "    * Con: doesn't distinguish points from other two-tuples. If p is a point, can't do p.x or p.y.\n",
    "\n",
    "<br>\n",
    "* **class**: Define `City` as a custom class with x and y fields.\n",
    "    * Pro: explicit, gives us p.x accessors.\n",
    "    * Con: less efficient because of the overhead of creating user-defined objects.\n",
    "    \n",
    "<br>\n",
    "* **complex**: Python already has the two-dimensional point as a built-in numeric data type, but in a non-obvious way: as complex numbers, which inhabit the two-dimensional (real × complex) plane. We can make this use more explicit by defining \"`City = complex` \", meaning that we can construct the representation of a city using the same constructor that makes complex numbers.\n",
    "    * Pro: most efficient, because it uses a builtin type that is already a pair of numbers. The distance between two points is simple: the absolute value of their difference.\n",
    "    * Con: it may seem confusing to bring complex numbers into play; can't say p.x.\n",
    " \n",
    "<br> \n",
    "* **subclass**: Define \"class Point(complex): pass\", meaning that points are a subclass of complex numbers.\n",
    "    * Pro: All the pros of using complex directly, with the added protection of making it more explicit that these are treated as points, not as complex numbers.\n",
    "    * Con: less efficient than using complex directly; still can't do p.x or p.y.\n",
    "\n",
    "<br>\n",
    "* **subclass with properties**: Define \"class Point(complex): x, y = property(lambda p: p.real), property(lambda p: p.imag)\".\n",
    "    * Pro: All the pros of previous approach, and we can finally say p.x.\n",
    "    * Con: less efficient than using complex directly.\n",
    "    \n",
    "We will go with the `complex` option."
   ]
  },
  {
   "cell_type": "code",
   "execution_count": 35,
   "metadata": {
    "collapsed": true
   },
   "outputs": [],
   "source": [
    "City = complex # Our constructor for new cities, i.e. City(200,300)"
   ]
  },
  {
   "cell_type": "code",
   "execution_count": 36,
   "metadata": {
    "collapsed": true
   },
   "outputs": [],
   "source": [
    "def distance(A, B):\n",
    "  \"The Euclidean distance between two cities.\"\n",
    "  return abs(A - B)"
   ]
  },
  {
   "cell_type": "code",
   "execution_count": 37,
   "metadata": {},
   "outputs": [
    {
     "data": {
      "text/plain": [
       "500.0"
      ]
     },
     "execution_count": 37,
     "metadata": {},
     "output_type": "execute_result"
    }
   ],
   "source": [
    "A = City(300, 0)\n",
    "B = City(0, 400)\n",
    "distance(A, B)"
   ]
  },
  {
   "cell_type": "code",
   "execution_count": 38,
   "metadata": {},
   "outputs": [],
   "source": [
    "def generate_cities(n):\n",
    "  \"Make a set of n cities, each with random coordinates.\"\n",
    "  return set(City(random.randrange(10, 890),\n",
    "                 random.randrange(10, 590))\n",
    "            for c in range(n))"
   ]
  },
  {
   "cell_type": "code",
   "execution_count": 39,
   "metadata": {},
   "outputs": [
    {
     "data": {
      "text/plain": [
       "{(302+364j),\n",
       " (306+111j),\n",
       " (329+349j),\n",
       " (79+47j),\n",
       " (801+325j),\n",
       " (812+81j),\n",
       " (815+321j),\n",
       " (832+537j)}"
      ]
     },
     "execution_count": 39,
     "metadata": {},
     "output_type": "execute_result"
    }
   ],
   "source": [
    "cities8, cities10, cities100, cities1000 = generate_cities(8), generate_cities(10), generate_cities(100), generate_cities(1000)\n",
    "cities8"
   ]
  },
  {
   "cell_type": "markdown",
   "metadata": {},
   "source": [
    "We may then want to plot our tour."
   ]
  },
  {
   "cell_type": "code",
   "execution_count": 40,
   "metadata": {
    "collapsed": true
   },
   "outputs": [],
   "source": [
    "def plot_tour(tour, alpha=1, color=None):\n",
    "    # Plot the tour as blue lines between blue circles, and the starting city as a red square.\n",
    "    plotline(list(tour) + [tour[0]], alpha=alpha, color=color)\n",
    "    plotline([tour[0]], style='gD', alpha=alpha, size=10)\n",
    "    # plt.show()\n",
    "    \n",
    "def plotline(points, style='bo-', alpha=1, size=7, color=None):\n",
    "    \"Plot a list of points (complex numbers) in the 2-D plane.\"\n",
    "    X, Y = XY(points)\n",
    "    \n",
    "    if color:\n",
    "        plt.plot(X, Y, style, alpha=alpha, markersize=size, color=color)\n",
    "    else:\n",
    "        plt.plot(X, Y, style, alpha=alpha, markersize=size)\n",
    "    \n",
    "def XY(points):\n",
    "    \"Given a list of points, return two lists: X coordinates, and Y coordinates.\"\n",
    "    return [p.real for p in points], [p.imag for p in points]"
   ]
  },
  {
   "cell_type": "markdown",
   "metadata": {},
   "source": [
    "We are now ready to test our algorithm!"
   ]
  },
  {
   "cell_type": "code",
   "execution_count": 41,
   "metadata": {
    "collapsed": true
   },
   "outputs": [],
   "source": [
    "tour = exact_TSP(cities8)"
   ]
  },
  {
   "cell_type": "code",
   "execution_count": 42,
   "metadata": {},
   "outputs": [
    {
     "data": {
      "image/png": "[encoded data removed]",
      "text/plain": [
       "<matplotlib.figure.Figure at 0x10ad82048>"
      ]
     },
     "metadata": {
      "image/png": {
       "height": 248,
       "width": 371
      }
     },
     "output_type": "display_data"
    }
   ],
   "source": [
    "plot_tour(tour)"
   ]
  },
  {
   "cell_type": "code",
   "execution_count": null,
   "metadata": {
    "collapsed": true
   },
   "outputs": [],
   "source": []
  }
 ],
 "metadata": {
  "kernelspec": {
   "display_name": "Python 3",
   "language": "python3",
   "name": "python3"
  },
  "language_info": {
   "codemirror_mode": {
    "name": "ipython",
    "version": 3
   },
   "file_extension": ".py",
   "mimetype": "text/x-python",
   "name": "python",
   "nbconvert_exporter": "python",
   "pygments_lexer": "ipython3",
   "version": "3.6.5"
  }
 },
 "nbformat": 4,
 "nbformat_minor": 2
}
