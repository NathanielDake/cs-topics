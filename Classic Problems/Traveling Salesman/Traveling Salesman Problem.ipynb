{
 "cells": [
  {
   "cell_type": "markdown",
   "metadata": {},
   "source": [
    "# The Traveling Salesperson Problem\n",
    "If you have never encountered the traveling sales person problem, it can be seen <a href=\"https://en.wikipedia.org/wiki/Travelling_salesman_problem\">here</a>. It is a classic problem in the field of computer science, and most certainly worth looking. A short and sweet problem description is as follows:\n",
    "> *Given a set of cities and the distance between each pair of cities, what is the shortest possible tour that visits each city exactly once, and returns to the starting city?*\n",
    "\n",
    "This walkthrough is going to work on developing some solutions to the problem, and in general demonstrate *how to think about* solving problems. \n",
    "\n",
    "<img src=\"images/tsp.png\">\n",
    "\n",
    "The first thing we want to ask whenever faced with a problem of this sort, is do we understand the problem statement enoguh to program a solution? Let's think for a moment:\n",
    "<br>\n",
    "* ***Given a set of cities***<br>\n",
    "    A Python `set` could represent a set of cities. An individual city may be just an integer index, or it might be (x,y) coordinates.  \n",
    "* ***...and the distance between each pair of cities***<br>\n",
    "    We could use either a function, `distance(A, B)`, or a table, `distance[A,B]`. \n",
    "* ***...what is the shortest possible tour***<br>\n",
    "    A tour is a sequential order in which to visit the cities; a function `shortest_tour(tours)` should find the one that minimizes `tour_length(tour)`, which is the sum of the distances between adjacent cities in the tour. \n",
    "* ***...that visits each city once and returns to the starting city***<br>\n",
    "    Make sure the tour doesn't re-visit a city (except returning to the start)\n",
    "    \n",
    "At this point we don't have all of the answers, but we have are at a good point to start attacking the problem! We can being by bringing in a few imports that we will utilize during the notebook."
   ]
  },
  {
   "cell_type": "code",
   "execution_count": 1,
   "metadata": {
    "collapsed": true
   },
   "outputs": [],
   "source": [
    "%matplotlib inline\n",
    "import matplotlib.pyplot as plt\n",
    "import random\n",
    "from time import clock\n",
    "from itertools import permutations, combinations\n",
    "from functools import lru_cache as cache\n",
    "from collections import Counter\n",
    "from statistics import mean, median"
   ]
  },
  {
   "cell_type": "markdown",
   "metadata": {},
   "source": [
    "---\n",
    "# Exhaustive Search Algorithm: `exhaustive_tsp`\n",
    "To begin, let's start with an algorithm that comes with a *guarantee* that it will solve the problem, albeit inefficiently. \n",
    "> **Exhaustive Search Algorithm**: *Generate all possible tours of the cities, and choose the shortest tour (the one with minimum tour length).*\n",
    "\n",
    "The design philosphy that we will follow here is to first write an English description of the algorithm (as we did above), and then write python code that closely mirrors the English description. This will probably require some auxilliary functions and data structures; at first we can just assume that they exist, put them on a TO DO list, and eventually define them with the same design philosophy. "
   ]
  },
  {
   "cell_type": "code",
   "execution_count": 2,
   "metadata": {
    "collapsed": true
   },
   "outputs": [],
   "source": [
    "def exhaustive_tsp(cities):\n",
    "  \"\"\"Generate all possible tours of the cities and choose the shortest tour.\"\"\"\n",
    "  return shortest_tour(alltours(cities))\n",
    "\n",
    "def shortest_tour(tours): return min(tours, key=tour_length)\n",
    "\n",
    "# TO DO: Data types: City, Cities, Tour; Functions: alltours, tour_length"
   ]
  },
  {
   "cell_type": "markdown",
   "metadata": {},
   "source": [
    "This gives us a good starting point. The Python code above closely matches our English description. Now we can tackle the TO DO list. \n",
    "\n",
    "**Tours**: A tour that starts in city 1, moves to 2, then 3, then back to 1 will be represented by `(1, 2, 3)`. Any valid tour of a set of cities will be a *permutation* of the cities. That means that we can implement `alltours` with the built in `permutations` function (from `itertools` module). Recall, **permutation** is the case where order matters. The length of a tour is the sum of the distances between adjacent cities in the tour - the sum of the lengths of the **links** between cities in the tour. \n",
    "\n",
    "**Cities**: The only thing we need to know about a city is its distance to other cities. We don't need to know its name, population, or anything else. We'll assume the distance between two cities is the <a href=\"https://en.wikipedia.org/wiki/Euclidean_distance\">Euclidean distance</a>, the straight-line distance between points in a two-dimensional plane. So we want `City(300, 100)` to be the city with x-coordinate 300 and y coordinate 100. At first glance it seems like Python does not have a builtin type for a point in the two-dimensional plane, but there actually is one: complex numbers. We can implement `City` with `complex`, which means the distance between two cities, `distance(A, B)` is the absolute value of the vector difference between them. We can also define `Cities(n)` to make a set of `n` random cities. We want `Cities(n)` to be reproducible (to return the same result when called with the same arugments), so we provide an optional argument that sets `random.seed`. "
   ]
  },
  {
   "cell_type": "code",
   "execution_count": null,
   "metadata": {
    "collapsed": true
   },
   "outputs": [],
   "source": [
    "\n",
    "\n",
    "\n",
    "\n",
    "\n",
    "\n",
    "\n",
    "\n",
    "\n",
    "\n",
    "\n",
    "\n",
    "\n",
    "\n",
    "\n"
   ]
  },
  {
   "cell_type": "code",
   "execution_count": 18,
   "metadata": {},
   "outputs": [],
   "source": [
    "a = complex "
   ]
  },
  {
   "cell_type": "code",
   "execution_count": 19,
   "metadata": {},
   "outputs": [
    {
     "data": {
      "text/plain": [
       "complex"
      ]
     },
     "execution_count": 19,
     "metadata": {},
     "output_type": "execute_result"
    }
   ],
   "source": [
    "a"
   ]
  },
  {
   "cell_type": "code",
   "execution_count": null,
   "metadata": {
    "collapsed": true
   },
   "outputs": [],
   "source": []
  }
 ],
 "metadata": {
  "kernelspec": {
   "display_name": "Python 3",
   "language": "python3",
   "name": "python3"
  },
  "language_info": {
   "codemirror_mode": {
    "name": "ipython",
    "version": 3
   },
   "file_extension": ".py",
   "mimetype": "text/x-python",
   "name": "python",
   "nbconvert_exporter": "python",
   "pygments_lexer": "ipython3",
   "version": "3.6.5"
  }
 },
 "nbformat": 4,
 "nbformat_minor": 2
}
